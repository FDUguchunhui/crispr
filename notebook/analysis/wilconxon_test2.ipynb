{
 "cells": [
  {
   "cell_type": "code",
   "execution_count": 1,
   "id": "initial_id",
   "metadata": {
    "collapsed": true,
    "ExecuteTime": {
     "end_time": "2024-04-09T20:44:05.467417Z",
     "start_time": "2024-04-09T20:44:04.618460Z"
    }
   },
   "outputs": [],
   "source": [
    "import numpy as np\n",
    "import pandas as pd\n",
    "import argparse\n",
    "import matplotlib.pyplot as plt\n",
    "# allow multiple outputs in one cell in jupyter notebook\n",
    "from IPython.core.interactiveshell import InteractiveShell\n",
    "InteractiveShell.ast_node_interactivity = \"all\""
   ]
  },
  {
   "cell_type": "code",
   "outputs": [],
   "source": [
    "%qtconsole"
   ],
   "metadata": {
    "collapsed": false
   },
   "id": "abdc08910231fa5f"
  },
  {
   "cell_type": "code",
   "outputs": [
    {
     "data": {
      "text/plain": "103650"
     },
     "execution_count": 2,
     "metadata": {},
     "output_type": "execute_result"
    }
   ],
   "source": [
    "norm_data = pd.read_csv('/Users/cgu3/Documents/Crispr/report/all_sample/all_sample.normalized.txt', sep='\\t', header=0)\n",
    "# get number of rows\n",
    "len(norm_data)"
   ],
   "metadata": {
    "collapsed": false,
    "ExecuteTime": {
     "end_time": "2024-04-09T20:44:05.633351Z",
     "start_time": "2024-04-09T20:44:05.468752Z"
    }
   },
   "id": "5fd6f26ff9b572eb",
   "execution_count": 2
  },
  {
   "cell_type": "code",
   "outputs": [],
   "source": [
    "# remove sgRNA and Gene column\n",
    "norm_data_numeric = norm_data.drop(columns=['sgRNA', 'Gene'])\n",
    "# find the minimum non-zero value in norm_data\n",
    "non_zero_min = norm_data_numeric[norm_data_numeric > 0].min().min()\n",
    "# replace zero value with the minimum non-zero value\n",
    "norm_data = norm_data.replace(0, non_zero_min)\n",
    "# calculate log2 ratio for each gene between het and wt\n",
    "norm_data['LFC'] = np.log10(norm_data['sample_het_1'] / norm_data['sample_wt_1'])\n",
    "norm_data['LFC'] = np.log10(norm_data['sample_het_6'] / norm_data['sample_wt_6'])"
   ],
   "metadata": {
    "collapsed": false,
    "ExecuteTime": {
     "end_time": "2024-04-09T20:44:05.847738Z",
     "start_time": "2024-04-09T20:44:05.634451Z"
    }
   },
   "id": "1a97df416b06c8ba",
   "execution_count": 3
  },
  {
   "cell_type": "code",
   "outputs": [
    {
     "data": {
      "text/plain": "                        sgRNA                   Gene  sample_het_1  \\\n0          negative_control_1     negative_control_1     33.209352   \n1         negative_control_10    negative_control_10      0.627188   \n2        negative_control_100   negative_control_100   1026.833162   \n3       negative_control_1000  negative_control_1000    221.838471   \n4       negative_control_1001  negative_control_1001      0.627188   \n...                       ...                    ...           ...   \n103645                 Zzz3_1                   Zzz3      0.627188   \n103646                 Zzz3_2                   Zzz3      1.328374   \n103647                 Zzz3_3                   Zzz3      2.656748   \n103648                 Zzz3_4                   Zzz3    189.957493   \n103649                 Zzz3_5                   Zzz3    835.547295   \n\n        sample_wt_1       LFC  \n0          0.627188  0.000000  \n1        487.132662 -0.780321  \n2        250.041510  0.000000  \n3        549.892085  2.314081  \n4          0.627188  0.000000  \n...             ...       ...  \n103645   374.564174  0.000000  \n103646  3108.085696  0.000000  \n103647     0.627188  0.000000  \n103648     0.627188  3.118402  \n103649   618.628595  0.000000  \n\n[103650 rows x 5 columns]",
      "text/html": "<div>\n<style scoped>\n    .dataframe tbody tr th:only-of-type {\n        vertical-align: middle;\n    }\n\n    .dataframe tbody tr th {\n        vertical-align: top;\n    }\n\n    .dataframe thead th {\n        text-align: right;\n    }\n</style>\n<table border=\"1\" class=\"dataframe\">\n  <thead>\n    <tr style=\"text-align: right;\">\n      <th></th>\n      <th>sgRNA</th>\n      <th>Gene</th>\n      <th>sample_het_1</th>\n      <th>sample_wt_1</th>\n      <th>LFC</th>\n    </tr>\n  </thead>\n  <tbody>\n    <tr>\n      <th>0</th>\n      <td>negative_control_1</td>\n      <td>negative_control_1</td>\n      <td>33.209352</td>\n      <td>0.627188</td>\n      <td>0.000000</td>\n    </tr>\n    <tr>\n      <th>1</th>\n      <td>negative_control_10</td>\n      <td>negative_control_10</td>\n      <td>0.627188</td>\n      <td>487.132662</td>\n      <td>-0.780321</td>\n    </tr>\n    <tr>\n      <th>2</th>\n      <td>negative_control_100</td>\n      <td>negative_control_100</td>\n      <td>1026.833162</td>\n      <td>250.041510</td>\n      <td>0.000000</td>\n    </tr>\n    <tr>\n      <th>3</th>\n      <td>negative_control_1000</td>\n      <td>negative_control_1000</td>\n      <td>221.838471</td>\n      <td>549.892085</td>\n      <td>2.314081</td>\n    </tr>\n    <tr>\n      <th>4</th>\n      <td>negative_control_1001</td>\n      <td>negative_control_1001</td>\n      <td>0.627188</td>\n      <td>0.627188</td>\n      <td>0.000000</td>\n    </tr>\n    <tr>\n      <th>...</th>\n      <td>...</td>\n      <td>...</td>\n      <td>...</td>\n      <td>...</td>\n      <td>...</td>\n    </tr>\n    <tr>\n      <th>103645</th>\n      <td>Zzz3_1</td>\n      <td>Zzz3</td>\n      <td>0.627188</td>\n      <td>374.564174</td>\n      <td>0.000000</td>\n    </tr>\n    <tr>\n      <th>103646</th>\n      <td>Zzz3_2</td>\n      <td>Zzz3</td>\n      <td>1.328374</td>\n      <td>3108.085696</td>\n      <td>0.000000</td>\n    </tr>\n    <tr>\n      <th>103647</th>\n      <td>Zzz3_3</td>\n      <td>Zzz3</td>\n      <td>2.656748</td>\n      <td>0.627188</td>\n      <td>0.000000</td>\n    </tr>\n    <tr>\n      <th>103648</th>\n      <td>Zzz3_4</td>\n      <td>Zzz3</td>\n      <td>189.957493</td>\n      <td>0.627188</td>\n      <td>3.118402</td>\n    </tr>\n    <tr>\n      <th>103649</th>\n      <td>Zzz3_5</td>\n      <td>Zzz3</td>\n      <td>835.547295</td>\n      <td>618.628595</td>\n      <td>0.000000</td>\n    </tr>\n  </tbody>\n</table>\n<p>103650 rows × 5 columns</p>\n</div>"
     },
     "execution_count": 5,
     "metadata": {},
     "output_type": "execute_result"
    }
   ],
   "source": [
    "# slice column Gene  sample_het_1 and sample_wt_1\n",
    "norm_data_1 = norm_data[['sgRNA', 'Gene', 'sample_het_1', 'sample_wt_1', 'LFC']]\n",
    "norm_data_6 = norm_data[['sgRNA', 'Gene', 'sample_het_6', 'sample_wt_6', 'LFC']]\n",
    "norm_data_1"
   ],
   "metadata": {
    "collapsed": false,
    "ExecuteTime": {
     "end_time": "2024-04-09T20:44:16.603699Z",
     "start_time": "2024-04-09T20:44:16.589957Z"
    }
   },
   "id": "f0923c556bb5db40",
   "execution_count": 5
  },
  {
   "cell_type": "code",
   "outputs": [],
   "source": [
    "# manually set args\n",
    "class Args:\n",
    "    def __init__(self):\n",
    "        self.negative_control_keyword = 'negative_control'\n",
    "        self.output = '/Users/cgu3/Documents/Crispr/report/all_sample/all_sample.normalized.txt'\n",
    "args = Args()"
   ],
   "metadata": {
    "collapsed": false,
    "ExecuteTime": {
     "end_time": "2024-04-09T20:44:50.673930Z",
     "start_time": "2024-04-09T20:44:50.667786Z"
    }
   },
   "id": "32deb8c6625843fb",
   "execution_count": 9
  },
  {
   "cell_type": "code",
   "outputs": [],
   "source": [
    "import random\n",
    "from random import shuffle\n",
    "from scipy.stats import mannwhitneyu\n",
    "\n",
    "# calculate rank using sgRNAs\n",
    "def rank_test(df, case_group, control_group):\n",
    "    # df = df[df['treat_mean'] > 20] # only keep sgRNAs with mean read counts > threshold\n",
    "    df_ntc = df[df['Gene'].str.contains(args.negative_control_keyword)]\n",
    "    df_targeting = df[~df['Gene'].str.contains(args.negative_control_keyword)]\n",
    "    # only keep genes with 5 sgRNAs\n",
    "    df_targeting = df_targeting.groupby('Gene').filter(lambda x: len(x)  == 5)\n",
    "\n",
    "    ntc_sgRNA_lfc = list(df_ntc['LFC'])\n",
    "    genes = df_targeting['Gene'].unique()\n",
    "    num_of_genes = len(genes)\n",
    "    gene_lfc_p = {}\n",
    "    for gene in genes:\n",
    "        df_gene = df_targeting[df_targeting['Gene'] == gene]\n",
    "        lfc = df_gene.iloc[:5]['LFC'].mean()\n",
    "        x, pvalue = mannwhitneyu(list(df_gene[case_group]), list(df_gene[control_group]), alternative='two-sided', method='auto')\n",
    "        gene_lfc_p[gene] = [lfc, pvalue]\n",
    "    # \n",
    "    # random.seed(10)\n",
    "    # for j in range(num_of_genes):\n",
    "    #     ntc_sgRNA_p_lfc = list(ntc_sgRNA_lfc)\n",
    "    #     shuffle(ntc_sgRNA_p_lfc)\n",
    "    #     ntc_selected = ntc_sgRNA_lfc[:5]\n",
    "    #     ntc_lfc = np.mean([i[1] for i in sorted(ntc_selected, key=lambda x: x[0])][:5])\n",
    "    #     x, ntc_pvalue = mannwhitneyu(ntc_selected, ntc_sgRNA_lfc, alternative='two-sided', method='auto')\n",
    "    #     gene_lfc_p['NTC' + str(j)] = [ntc_lfc, ntc_pvalue]\n",
    "    return gene_lfc_p\n"
   ],
   "metadata": {
    "collapsed": false
   },
   "id": "cfd5b0528b2f86b5",
   "execution_count": 16
  },
  {
   "cell_type": "code",
   "outputs": [],
   "source": [],
   "metadata": {
    "collapsed": false
   },
   "id": "a483d3b1b79ba79b"
  },
  {
   "cell_type": "code",
   "outputs": [],
   "source": [],
   "metadata": {
    "collapsed": false
   },
   "id": "3acd6e2347ea33ad"
  }
 ],
 "metadata": {
  "kernelspec": {
   "display_name": "Python 3",
   "language": "python",
   "name": "python3"
  },
  "language_info": {
   "codemirror_mode": {
    "name": "ipython",
    "version": 2
   },
   "file_extension": ".py",
   "mimetype": "text/x-python",
   "name": "python",
   "nbconvert_exporter": "python",
   "pygments_lexer": "ipython2",
   "version": "2.7.6"
  }
 },
 "nbformat": 4,
 "nbformat_minor": 5
}
