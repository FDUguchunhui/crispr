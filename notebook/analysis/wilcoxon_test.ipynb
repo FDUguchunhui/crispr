{
 "cells": [
  {
   "cell_type": "code",
   "outputs": [],
   "source": [
    "import numpy as np\n",
    "import pandas as pd\n",
    "import argparse\n",
    "import matplotlib.pyplot as plt\n",
    "# allow multiple outputs in one cell in jupyter notebook\n",
    "from IPython.core.interactiveshell import InteractiveShell\n",
    "InteractiveShell.ast_node_interactivity = \"all\""
   ],
   "metadata": {
    "collapsed": false,
    "ExecuteTime": {
     "end_time": "2024-04-23T16:01:41.800134Z",
     "start_time": "2024-04-23T16:01:39.396814Z"
    }
   },
   "id": "4c50452716191da1",
   "execution_count": 3
  },
  {
   "cell_type": "code",
   "outputs": [],
   "source": [
    "# %qtconsole"
   ],
   "metadata": {
    "collapsed": false,
    "ExecuteTime": {
     "end_time": "2024-04-23T16:01:41.806641Z",
     "start_time": "2024-04-23T16:01:41.800192Z"
    }
   },
   "id": "4913529a45893dff",
   "execution_count": 4
  },
  {
   "cell_type": "code",
   "execution_count": 5,
   "id": "initial_id",
   "metadata": {
    "collapsed": true,
    "ExecuteTime": {
     "end_time": "2024-04-23T16:01:42.015619Z",
     "start_time": "2024-04-23T16:01:41.804125Z"
    }
   },
   "outputs": [
    {
     "data": {
      "text/plain": "103650"
     },
     "execution_count": 5,
     "metadata": {},
     "output_type": "execute_result"
    }
   ],
   "source": [
    "norm_data = pd.read_csv('/Users/cgu3/Documents/Crispr/report/all_sample/all_sample.normalized.txt', sep='\\t', header=0)\n",
    "# get number of rows\n",
    "len(norm_data)"
   ]
  },
  {
   "cell_type": "markdown",
   "source": [
    "### Generate a list of genes that are specific to the heterozygous group and wild-type group"
   ],
   "metadata": {
    "collapsed": false
   },
   "id": "ab390324e158c44"
  },
  {
   "cell_type": "code",
   "outputs": [],
   "source": [
    "# aggregate sgRNAs with the same gene symbol and remove sgRNA column\n",
    "gene_norm_data = norm_data.groupby(norm_data['Gene']).sum()\n",
    "# find genes has non-zero in sample_het_1 and zero value in sample_wt_1\n",
    "het_specific_group_1 = gene_norm_data[(gene_norm_data['sample_het_1'] > 0) & (gene_norm_data['sample_wt_1'] == 0)].loc[:, ['sample_het_1', 'sample_wt_1']]\n",
    "# find genes has non-zero in sample_wt_1 and zero value in sample_het_1\n",
    "wt_specific_group_1 = gene_norm_data[(gene_norm_data['sample_wt_1'] > 0) & (gene_norm_data['sample_het_1'] == 0)].loc[:, ['sample_het_1', 'sample_wt_1']]\n",
    "# find genes has non-zero in sample_het_6 and zero value in sample_wt_6\n",
    "het_specific_group_6 = gene_norm_data[(gene_norm_data['sample_het_6'] > 0) & (gene_norm_data['sample_wt_6'] == 0)].loc[:, ['sample_het_6', 'sample_wt_6']]\n",
    "# find genes has non-zero in sample_wt_6 and zero value in sample_het_6\n",
    "wt_specific_group_6 = gene_norm_data[(gene_norm_data['sample_wt_6'] > 0) & (gene_norm_data['sample_het_6'] == 0)].loc[:, ['sample_het_6', 'sample_wt_6']]\n",
    "\n",
    "het_specific_group_1_gene_list = het_specific_group_1.index.tolist()\n",
    "wt_specific_group_1_gene_list = wt_specific_group_1.index.tolist()\n",
    "het_specific_group_6_gene_list = het_specific_group_6.index.tolist()\n",
    "wt_specific_group_6_gene_list = wt_specific_group_6.index.tolist()\n"
   ],
   "metadata": {
    "collapsed": false,
    "ExecuteTime": {
     "end_time": "2024-04-23T16:01:42.038184Z",
     "start_time": "2024-04-23T16:01:41.997518Z"
    }
   },
   "id": "e5ff4fdfa5ee6f66",
   "execution_count": 6
  },
  {
   "cell_type": "code",
   "outputs": [],
   "source": [
    "# Replace 0 with minimum non-zero value in the dataframe\n",
    "# remove sgRNA and Gene column\n",
    "norm_data_numeric = norm_data.drop(columns=['sgRNA', 'Gene'])\n",
    "# find the minimum non-zero value in norm_data\n",
    "non_zero_min = norm_data_numeric[norm_data_numeric > 0].min().min()\n",
    "# replace zero value with the minimum non-zero value\n",
    "norm_data = norm_data.replace(0, non_zero_min)"
   ],
   "metadata": {
    "collapsed": false,
    "ExecuteTime": {
     "end_time": "2024-04-23T16:01:42.074756Z",
     "start_time": "2024-04-23T16:01:42.039046Z"
    }
   },
   "id": "11724baefe892f94",
   "execution_count": 7
  },
  {
   "cell_type": "code",
   "outputs": [
    {
     "data": {
      "text/plain": "                  sgRNA           Gene  sample_wt_1  sample_wt_2  sample_wt_3  \\\n4340    0610007P14Rik_1  0610007P14Rik     0.627188   389.058524     0.627188   \n4341             ACE3_1           ACE3   978.250049  1725.777947     0.627188   \n4342             ACE3_2           ACE3     0.627188   249.854098     0.627188   \n4343             ACE3_3           ACE3   115.557032   221.299344     0.627188   \n4344             ACE3_4           ACE3   901.544088     0.627188  1764.894555   \n...                 ...            ...          ...          ...          ...   \n103645           Zzz3_1           Zzz3   374.564174   305.178934  1104.882335   \n103646           Zzz3_2           Zzz3  3108.085696  1229.639096  1637.267883   \n103647           Zzz3_3           Zzz3     0.627188   416.720942     0.627188   \n103648           Zzz3_4           Zzz3     0.627188     0.627188     0.627188   \n103649           Zzz3_5           Zzz3   618.628595   170.436188   816.810703   \n\n        sample_wt_4  sample_wt_5  sample_wt_6  sample_het_1  sample_het_2  \\\n4340     729.949448  1780.814259   733.702853    822.263554    758.173612   \n4341     910.950487   166.177374     0.627188      0.627188      0.627188   \n4342     288.676840  1337.408286  1626.248591      0.627188    134.084407   \n4343     257.629217   492.939613     0.627188    193.942615    525.105427   \n4344     404.279694   575.229370  2477.192621    790.382576    794.678267   \n...             ...          ...          ...           ...           ...   \n103645   517.900784   209.319576     0.627188      0.627188    116.534092   \n103646   500.064916   138.214835     0.627188      1.328374    128.468306   \n103647   188.928092   391.475544     0.627188      2.656748    443.671965   \n103648   204.782198   458.585637     0.627188    189.957493    698.502540   \n103649   122.869319   665.508424     0.627188    835.547295    274.486928   \n\n        sample_het_3  sample_het_4  sample_het_5  sample_het_6  \n4340      274.774916    527.465362      0.627188      0.627188  \n4341        0.627188      0.627188    103.478459      0.627188  \n4342      128.228294    310.458210    305.659449      0.627188  \n4343      291.261410   1154.026477   1414.470940      0.627188  \n4344      288.513661    417.080221    429.037612    779.470102  \n...              ...           ...           ...           ...  \n103645    284.849996    419.588974    472.816960      0.627188  \n103646      0.627188    325.510729    212.528836      0.627188  \n103647   1348.228919    528.719739    429.833600      0.627188  \n103648    528.483754    575.758862    394.014133    823.758176  \n103649      0.627188    122.301719      0.795988      0.627188  \n\n[99310 rows x 14 columns]",
      "text/html": "<div>\n<style scoped>\n    .dataframe tbody tr th:only-of-type {\n        vertical-align: middle;\n    }\n\n    .dataframe tbody tr th {\n        vertical-align: top;\n    }\n\n    .dataframe thead th {\n        text-align: right;\n    }\n</style>\n<table border=\"1\" class=\"dataframe\">\n  <thead>\n    <tr style=\"text-align: right;\">\n      <th></th>\n      <th>sgRNA</th>\n      <th>Gene</th>\n      <th>sample_wt_1</th>\n      <th>sample_wt_2</th>\n      <th>sample_wt_3</th>\n      <th>sample_wt_4</th>\n      <th>sample_wt_5</th>\n      <th>sample_wt_6</th>\n      <th>sample_het_1</th>\n      <th>sample_het_2</th>\n      <th>sample_het_3</th>\n      <th>sample_het_4</th>\n      <th>sample_het_5</th>\n      <th>sample_het_6</th>\n    </tr>\n  </thead>\n  <tbody>\n    <tr>\n      <th>4340</th>\n      <td>0610007P14Rik_1</td>\n      <td>0610007P14Rik</td>\n      <td>0.627188</td>\n      <td>389.058524</td>\n      <td>0.627188</td>\n      <td>729.949448</td>\n      <td>1780.814259</td>\n      <td>733.702853</td>\n      <td>822.263554</td>\n      <td>758.173612</td>\n      <td>274.774916</td>\n      <td>527.465362</td>\n      <td>0.627188</td>\n      <td>0.627188</td>\n    </tr>\n    <tr>\n      <th>4341</th>\n      <td>ACE3_1</td>\n      <td>ACE3</td>\n      <td>978.250049</td>\n      <td>1725.777947</td>\n      <td>0.627188</td>\n      <td>910.950487</td>\n      <td>166.177374</td>\n      <td>0.627188</td>\n      <td>0.627188</td>\n      <td>0.627188</td>\n      <td>0.627188</td>\n      <td>0.627188</td>\n      <td>103.478459</td>\n      <td>0.627188</td>\n    </tr>\n    <tr>\n      <th>4342</th>\n      <td>ACE3_2</td>\n      <td>ACE3</td>\n      <td>0.627188</td>\n      <td>249.854098</td>\n      <td>0.627188</td>\n      <td>288.676840</td>\n      <td>1337.408286</td>\n      <td>1626.248591</td>\n      <td>0.627188</td>\n      <td>134.084407</td>\n      <td>128.228294</td>\n      <td>310.458210</td>\n      <td>305.659449</td>\n      <td>0.627188</td>\n    </tr>\n    <tr>\n      <th>4343</th>\n      <td>ACE3_3</td>\n      <td>ACE3</td>\n      <td>115.557032</td>\n      <td>221.299344</td>\n      <td>0.627188</td>\n      <td>257.629217</td>\n      <td>492.939613</td>\n      <td>0.627188</td>\n      <td>193.942615</td>\n      <td>525.105427</td>\n      <td>291.261410</td>\n      <td>1154.026477</td>\n      <td>1414.470940</td>\n      <td>0.627188</td>\n    </tr>\n    <tr>\n      <th>4344</th>\n      <td>ACE3_4</td>\n      <td>ACE3</td>\n      <td>901.544088</td>\n      <td>0.627188</td>\n      <td>1764.894555</td>\n      <td>404.279694</td>\n      <td>575.229370</td>\n      <td>2477.192621</td>\n      <td>790.382576</td>\n      <td>794.678267</td>\n      <td>288.513661</td>\n      <td>417.080221</td>\n      <td>429.037612</td>\n      <td>779.470102</td>\n    </tr>\n    <tr>\n      <th>...</th>\n      <td>...</td>\n      <td>...</td>\n      <td>...</td>\n      <td>...</td>\n      <td>...</td>\n      <td>...</td>\n      <td>...</td>\n      <td>...</td>\n      <td>...</td>\n      <td>...</td>\n      <td>...</td>\n      <td>...</td>\n      <td>...</td>\n      <td>...</td>\n    </tr>\n    <tr>\n      <th>103645</th>\n      <td>Zzz3_1</td>\n      <td>Zzz3</td>\n      <td>374.564174</td>\n      <td>305.178934</td>\n      <td>1104.882335</td>\n      <td>517.900784</td>\n      <td>209.319576</td>\n      <td>0.627188</td>\n      <td>0.627188</td>\n      <td>116.534092</td>\n      <td>284.849996</td>\n      <td>419.588974</td>\n      <td>472.816960</td>\n      <td>0.627188</td>\n    </tr>\n    <tr>\n      <th>103646</th>\n      <td>Zzz3_2</td>\n      <td>Zzz3</td>\n      <td>3108.085696</td>\n      <td>1229.639096</td>\n      <td>1637.267883</td>\n      <td>500.064916</td>\n      <td>138.214835</td>\n      <td>0.627188</td>\n      <td>1.328374</td>\n      <td>128.468306</td>\n      <td>0.627188</td>\n      <td>325.510729</td>\n      <td>212.528836</td>\n      <td>0.627188</td>\n    </tr>\n    <tr>\n      <th>103647</th>\n      <td>Zzz3_3</td>\n      <td>Zzz3</td>\n      <td>0.627188</td>\n      <td>416.720942</td>\n      <td>0.627188</td>\n      <td>188.928092</td>\n      <td>391.475544</td>\n      <td>0.627188</td>\n      <td>2.656748</td>\n      <td>443.671965</td>\n      <td>1348.228919</td>\n      <td>528.719739</td>\n      <td>429.833600</td>\n      <td>0.627188</td>\n    </tr>\n    <tr>\n      <th>103648</th>\n      <td>Zzz3_4</td>\n      <td>Zzz3</td>\n      <td>0.627188</td>\n      <td>0.627188</td>\n      <td>0.627188</td>\n      <td>204.782198</td>\n      <td>458.585637</td>\n      <td>0.627188</td>\n      <td>189.957493</td>\n      <td>698.502540</td>\n      <td>528.483754</td>\n      <td>575.758862</td>\n      <td>394.014133</td>\n      <td>823.758176</td>\n    </tr>\n    <tr>\n      <th>103649</th>\n      <td>Zzz3_5</td>\n      <td>Zzz3</td>\n      <td>618.628595</td>\n      <td>170.436188</td>\n      <td>816.810703</td>\n      <td>122.869319</td>\n      <td>665.508424</td>\n      <td>0.627188</td>\n      <td>835.547295</td>\n      <td>274.486928</td>\n      <td>0.627188</td>\n      <td>122.301719</td>\n      <td>0.795988</td>\n      <td>0.627188</td>\n    </tr>\n  </tbody>\n</table>\n<p>99310 rows × 14 columns</p>\n</div>"
     },
     "execution_count": 8,
     "metadata": {},
     "output_type": "execute_result"
    }
   ],
   "source": [
    "# remove sgRNAs start with negative_control\n",
    "neg_controls = norm_data[norm_data.sgRNA.str.startswith('negative_control')]\n",
    "norm_data = norm_data[~norm_data.sgRNA.str.startswith('negative_control')]\n",
    "norm_data"
   ],
   "metadata": {
    "collapsed": false,
    "ExecuteTime": {
     "end_time": "2024-04-23T16:01:42.144145Z",
     "start_time": "2024-04-23T16:01:42.089854Z"
    }
   },
   "id": "a0abeb061a3afee4",
   "execution_count": 8
  },
  {
   "cell_type": "code",
   "outputs": [],
   "source": [],
   "metadata": {
    "collapsed": false,
    "ExecuteTime": {
     "end_time": "2024-04-23T16:01:42.146080Z",
     "start_time": "2024-04-23T16:01:42.139059Z"
    }
   },
   "id": "38550e60fdf1df51",
   "execution_count": 8
  },
  {
   "cell_type": "code",
   "outputs": [],
   "source": [
    "# remove part before \"_[0-9]+\" in column sgRNA\n",
    "norm_data['sgRNA_index'] = norm_data['sgRNA'].str.extract(r'_(\\d+)', expand=False)"
   ],
   "metadata": {
    "collapsed": false,
    "ExecuteTime": {
     "end_time": "2024-04-23T16:01:42.238356Z",
     "start_time": "2024-04-23T16:01:42.165225Z"
    }
   },
   "id": "5708e1bed315239f",
   "execution_count": 9
  },
  {
   "cell_type": "code",
   "outputs": [
    {
     "data": {
      "text/plain": "       sgRNA_index           Gene  sample_het_6  sample_wt_6\n4340             1  0610007P14Rik      0.627188   733.702853\n4341             1           ACE3      0.627188     0.627188\n4342             2           ACE3      0.627188  1626.248591\n4343             3           ACE3      0.627188     0.627188\n4344             4           ACE3    779.470102  2477.192621\n...            ...            ...           ...          ...\n103645           1           Zzz3      0.627188     0.627188\n103646           2           Zzz3      0.627188     0.627188\n103647           3           Zzz3      0.627188     0.627188\n103648           4           Zzz3    823.758176     0.627188\n103649           5           Zzz3      0.627188     0.627188\n\n[99310 rows x 4 columns]",
      "text/html": "<div>\n<style scoped>\n    .dataframe tbody tr th:only-of-type {\n        vertical-align: middle;\n    }\n\n    .dataframe tbody tr th {\n        vertical-align: top;\n    }\n\n    .dataframe thead th {\n        text-align: right;\n    }\n</style>\n<table border=\"1\" class=\"dataframe\">\n  <thead>\n    <tr style=\"text-align: right;\">\n      <th></th>\n      <th>sgRNA_index</th>\n      <th>Gene</th>\n      <th>sample_het_6</th>\n      <th>sample_wt_6</th>\n    </tr>\n  </thead>\n  <tbody>\n    <tr>\n      <th>4340</th>\n      <td>1</td>\n      <td>0610007P14Rik</td>\n      <td>0.627188</td>\n      <td>733.702853</td>\n    </tr>\n    <tr>\n      <th>4341</th>\n      <td>1</td>\n      <td>ACE3</td>\n      <td>0.627188</td>\n      <td>0.627188</td>\n    </tr>\n    <tr>\n      <th>4342</th>\n      <td>2</td>\n      <td>ACE3</td>\n      <td>0.627188</td>\n      <td>1626.248591</td>\n    </tr>\n    <tr>\n      <th>4343</th>\n      <td>3</td>\n      <td>ACE3</td>\n      <td>0.627188</td>\n      <td>0.627188</td>\n    </tr>\n    <tr>\n      <th>4344</th>\n      <td>4</td>\n      <td>ACE3</td>\n      <td>779.470102</td>\n      <td>2477.192621</td>\n    </tr>\n    <tr>\n      <th>...</th>\n      <td>...</td>\n      <td>...</td>\n      <td>...</td>\n      <td>...</td>\n    </tr>\n    <tr>\n      <th>103645</th>\n      <td>1</td>\n      <td>Zzz3</td>\n      <td>0.627188</td>\n      <td>0.627188</td>\n    </tr>\n    <tr>\n      <th>103646</th>\n      <td>2</td>\n      <td>Zzz3</td>\n      <td>0.627188</td>\n      <td>0.627188</td>\n    </tr>\n    <tr>\n      <th>103647</th>\n      <td>3</td>\n      <td>Zzz3</td>\n      <td>0.627188</td>\n      <td>0.627188</td>\n    </tr>\n    <tr>\n      <th>103648</th>\n      <td>4</td>\n      <td>Zzz3</td>\n      <td>823.758176</td>\n      <td>0.627188</td>\n    </tr>\n    <tr>\n      <th>103649</th>\n      <td>5</td>\n      <td>Zzz3</td>\n      <td>0.627188</td>\n      <td>0.627188</td>\n    </tr>\n  </tbody>\n</table>\n<p>99310 rows × 4 columns</p>\n</div>"
     },
     "execution_count": 10,
     "metadata": {},
     "output_type": "execute_result"
    }
   ],
   "source": [
    "# # slice column Gene  sample_het_1 and sample_wt_1\n",
    "norm_data_1 = norm_data[['sgRNA_index', 'Gene', 'sample_het_1', 'sample_wt_1']]\n",
    "norm_data_6 = norm_data[['sgRNA_index', 'Gene', 'sample_het_6', 'sample_wt_6']]\n",
    "\n",
    "norm_data_6"
   ],
   "metadata": {
    "collapsed": false,
    "ExecuteTime": {
     "end_time": "2024-04-23T16:01:42.256564Z",
     "start_time": "2024-04-23T16:01:42.182244Z"
    }
   },
   "id": "fc13c4c337059335",
   "execution_count": 10
  },
  {
   "cell_type": "code",
   "outputs": [],
   "source": [
    "# pivot_wide the table and use the index as column name \n",
    "norm_data_1 = norm_data_1.pivot(index='Gene', columns='sgRNA_index', values=['sample_het_1', 'sample_wt_1'])\n",
    "# remove row if all value in the row is 0\n",
    "norm_data_1 = norm_data_1.loc[(norm_data_1 != 0).any(axis=1)]\n",
    "# remove if the row has NaN value\n",
    "norm_data_1 = norm_data_1.dropna()\n",
    "# remove if row all has the same value\n",
    "norm_data_1 = norm_data_1.loc[(norm_data_1['sample_het_1'] != norm_data_1['sample_wt_1']).any(axis=1)]\n",
    "\n",
    "\n",
    "# do the same above for norm_data_6\n",
    "norm_data_6 = norm_data_6.pivot(index='Gene', columns='sgRNA_index', values=['sample_het_6', 'sample_wt_6'])\n",
    "norm_data_6 = norm_data_6.loc[(norm_data_6 != 0).any(axis=1)]\n",
    "norm_data_6 = norm_data_6.dropna()\n",
    "norm_data_6 = norm_data_6.loc[(norm_data_6['sample_het_6'] != norm_data_6['sample_wt_6']).any(axis=1)]"
   ],
   "metadata": {
    "collapsed": false,
    "ExecuteTime": {
     "end_time": "2024-04-23T16:01:42.305022Z",
     "start_time": "2024-04-23T16:01:42.199706Z"
    }
   },
   "id": "7d307b5628bf3119",
   "execution_count": 11
  },
  {
   "cell_type": "code",
   "outputs": [],
   "source": [
    "# ['_'.join(col).strip() for col in norm_data_1.columns.values]"
   ],
   "metadata": {
    "collapsed": false,
    "ExecuteTime": {
     "end_time": "2024-04-23T16:01:42.306661Z",
     "start_time": "2024-04-23T16:01:42.291848Z"
    }
   },
   "id": "ce70dc30e8780a59",
   "execution_count": 12
  },
  {
   "cell_type": "code",
   "outputs": [],
   "source": [
    "# perform wilcoxon signed-rank test for each row in the dataframe between sample_het_1 and sample_wt_1 and extract the z score\n",
    "# todo: use signed rank to calculate the p-value\n",
    "from scipy.stats import wilcoxon, ranksums\n",
    "norm_data_1['pvalue'] = norm_data_1.apply(lambda x: ranksums(x['sample_het_1'], x['sample_wt_1']).pvalue, axis=1)\n",
    "# calculate the log2 fold change\n",
    "norm_data_1['LFC'] = np.log2(norm_data_1['sample_het_1'].mean(axis=1) / norm_data_1['sample_wt_1'].mean(axis=1))\n",
    "\n",
    "# do the same above for norm_data_6\n",
    "norm_data_6['pvalue'] = norm_data_6.apply(lambda x: ranksums(x['sample_het_6'], x['sample_wt_6']).pvalue, axis=1)\n",
    "norm_data_6['LFC'] = np.log2(norm_data_6['sample_het_6'].mean(axis=1) / norm_data_6['sample_wt_6'].mean(axis=1))"
   ],
   "metadata": {
    "collapsed": false,
    "ExecuteTime": {
     "end_time": "2024-04-23T16:02:02.115252Z",
     "start_time": "2024-04-23T16:01:42.297451Z"
    }
   },
   "id": "cf4b81f6581ad248",
   "execution_count": 13
  },
  {
   "cell_type": "code",
   "outputs": [],
   "source": [
    "neg_controls_1 = neg_controls[['Gene', 'sample_het_1', 'sample_wt_1']]\n",
    "# remove row if all value in the row is 0\n",
    "neg_controls_1 = neg_controls_1.loc[(neg_controls_1 != 0).any(axis=1)]\n",
    "\n",
    "# do the same above for norm_data_6\n",
    "neg_controls_6 = neg_controls[['Gene', 'sample_het_6', 'sample_wt_6']]\n",
    "neg_controls_6 = neg_controls_6.loc[(neg_controls_6 != 0).any(axis=1)]"
   ],
   "metadata": {
    "collapsed": false,
    "ExecuteTime": {
     "end_time": "2024-04-23T16:02:02.127226Z",
     "start_time": "2024-04-23T16:02:02.115935Z"
    }
   },
   "id": "63f64da2f079df90",
   "execution_count": 14
  },
  {
   "cell_type": "code",
   "outputs": [],
   "source": [
    "# len(neg_controls_1)\n",
    "# # get all permutation of 5 number from 0 to 4339\n",
    "# from itertools import combinations\n",
    "# combs = list(combinations(range(len(neg_controls_1)), 5))"
   ],
   "metadata": {
    "collapsed": false,
    "ExecuteTime": {
     "end_time": "2024-04-23T16:02:02.147606Z",
     "start_time": "2024-04-23T16:02:02.123250Z"
    }
   },
   "id": "fd0728276893fc12",
   "execution_count": 15
  },
  {
   "cell_type": "code",
   "outputs": [],
   "source": [
    "# random draw 5 rows from neg_controls_1\n",
    "len_genes = len(norm_data_1)\n",
    "ntc_LFC = np.zeros(len_genes)\n",
    "ntc_pvalue = np.zeros(len_genes)\n",
    "i = 0\n",
    "while True:\n",
    "    if i == len_genes:\n",
    "        break\n",
    "    test = neg_controls_1.sample(n=5)\n",
    "    # if  np.all((test['sample_het_1'] - test['sample_wt_1']) == 0):\n",
    "        # continue\n",
    "    # calculate the wilcoxon signed-rank statistic\n",
    "    ntc_pvalue[i] = ranksums(test['sample_het_1'], test['sample_wt_1']).pvalue\n",
    "    ntc_LFC[i] = np.log2(test['sample_het_1'].mean() / test['sample_wt_1'].mean())\n",
    "    i+=1\n",
    "\n",
    "# combine p-value and LFC to a dataframe\n",
    "ntc_data_1 = pd.DataFrame({'pvalue': ntc_pvalue, 'LFC': ntc_LFC}, index=['NTC_%d' % i for i in range(0, len_genes)])"
   ],
   "metadata": {
    "collapsed": false,
    "ExecuteTime": {
     "end_time": "2024-04-23T16:02:11.238935Z",
     "start_time": "2024-04-23T16:02:02.130535Z"
    }
   },
   "id": "f72611566ecdfbc9",
   "execution_count": 16
  },
  {
   "cell_type": "code",
   "outputs": [],
   "source": [
    "# do the same above for norm_data_6\n",
    "len_genes = len(norm_data_6)\n",
    "ntc_LFC = np.zeros(len_genes)\n",
    "ntc_pvalue = np.zeros(len_genes)\n",
    "i = 0\n",
    "while True:\n",
    "    if i == len_genes:\n",
    "        break\n",
    "    test = neg_controls_6.sample(n=5)\n",
    "    # if  np.all((test['sample_het_1'] - test['sample_wt_1']) == 0):\n",
    "        # continue\n",
    "    ntc_pvalue[i] = ranksums(test['sample_het_6'], test['sample_wt_6']).pvalue\n",
    "    ntc_LFC[i] = np.log2(test['sample_het_6'].mean() / test['sample_wt_6'].mean())\n",
    "    i+=1\n",
    "    \n",
    "ntc_data_6 = pd.DataFrame({'pvalue': ntc_pvalue, 'LFC': ntc_LFC}, index=['NTC_%d' % i for i in range(0, len_genes)])"
   ],
   "metadata": {
    "collapsed": false,
    "ExecuteTime": {
     "end_time": "2024-04-23T16:02:19.885712Z",
     "start_time": "2024-04-23T16:02:11.241227Z"
    }
   },
   "id": "7952006b41ed629b",
   "execution_count": 17
  },
  {
   "cell_type": "markdown",
   "source": [
    "# For group 1"
   ],
   "metadata": {
    "collapsed": false
   },
   "id": "f36fa905cc2fa2b8"
  },
  {
   "cell_type": "code",
   "outputs": [],
   "source": [
    "df = norm_data_1[[('pvalue', ''), ('LFC', '')]]\n",
    "df.columns=['pvalue', 'LFC']\n",
    "# combine the negative control data with the data from the sample\n",
    "df = pd.concat([df, ntc_data_1])\n",
    "# remove row if p-value is NaN\n",
    "df = df.dropna()\n",
    "df['gene_score'] = df['LFC'] * (-np.log10(df['pvalue']))\n",
    "# add index as column to the dataframe \"Gene\"\n",
    "df['Gene'] = df.index\n",
    "# add jitter to the p-value\n",
    "df['pvalue'] = df['pvalue'] + np.random.uniform(-0.03, 0.03, len(df))\n",
    "# cap p-value between 0 and 1\n",
    "df['pvalue'] = df['pvalue'].clip(0.01, 1)"
   ],
   "metadata": {
    "collapsed": false,
    "ExecuteTime": {
     "end_time": "2024-04-23T16:02:19.939033Z",
     "start_time": "2024-04-23T16:02:19.899192Z"
    }
   },
   "id": "b8349bba9ad313f3",
   "execution_count": 18
  },
  {
   "cell_type": "code",
   "outputs": [
    {
     "data": {
      "text/plain": "<Figure size 640x480 with 1 Axes>",
      "image/png": "[encoded data removed]"
     },
     "metadata": {},
     "output_type": "display_data"
    }
   ],
   "source": [
    "# hist plot of the p-value\n",
    "plt.hist(df['pvalue'], bins=100);"
   ],
   "metadata": {
    "collapsed": false,
    "ExecuteTime": {
     "end_time": "2024-04-23T16:02:20.334639Z",
     "start_time": "2024-04-23T16:02:19.932016Z"
    }
   },
   "id": "46799b7845227ab4",
   "execution_count": 19
  },
  {
   "cell_type": "code",
   "outputs": [
    {
     "data": {
      "text/plain": "<Figure size 640x480 with 1 Axes>",
      "image/png": "[encoded data removed]"
     },
     "metadata": {},
     "output_type": "display_data"
    }
   ],
   "source": [
    "# plot hist of negative control p-value\n",
    "plt.hist(ntc_pvalue, bins=100);"
   ],
   "metadata": {
    "collapsed": false,
    "ExecuteTime": {
     "end_time": "2024-04-23T16:02:20.469251Z",
     "start_time": "2024-04-23T16:02:20.335801Z"
    }
   },
   "id": "a01a7e07ca16b3a5",
   "execution_count": 20
  },
  {
   "cell_type": "code",
   "outputs": [],
   "source": [
    "def product_threshold_fdr(df, fdr=0.05):\n",
    "    maxi = abs(df['gene_score']).max()\n",
    "    for pro in np.arange(0, maxi, 0.01):\n",
    "        df_thres = df[abs(df['gene_score']) > pro]\n",
    "        if (1.0 * len(df_thres[df_thres['Gene'].str.contains('NTC')]) / len(df_thres)) < fdr:\n",
    "            break\n",
    "    return pro, df_thres"
   ],
   "metadata": {
    "collapsed": false,
    "ExecuteTime": {
     "end_time": "2024-04-23T16:02:20.475778Z",
     "start_time": "2024-04-23T16:02:20.469457Z"
    }
   },
   "id": "7322b1bd58d0a6bc",
   "execution_count": 21
  },
  {
   "cell_type": "code",
   "outputs": [],
   "source": [
    "fdr = 0.10\n",
    "thres, df_hits = product_threshold_fdr(df, fdr)\n",
    "# df.sort_values('product', ascending=False).to_csv(output_folder + '/' + output_name + '_all_genes.csv', index=False)\n",
    "# df_hits.sort_values('product', ascending=False).to_csv(\n",
    "#     output_folder + '/' + output_name + '_fdr%s_product%s_hits.csv' % (fdr, thres), index=False)\n",
    "df_ntc = df[df['Gene'].str.contains('NTC')]"
   ],
   "metadata": {
    "collapsed": false,
    "ExecuteTime": {
     "end_time": "2024-04-23T16:02:21.838389Z",
     "start_time": "2024-04-23T16:02:20.476721Z"
    }
   },
   "id": "816626f4d43a32ae",
   "execution_count": 22
  },
  {
   "cell_type": "code",
   "outputs": [],
   "source": [
    "# remove gene symbol with NTC from df_hits\n",
    "df_temp = df_hits[~df_hits['Gene'].str.contains('NTC')]\n",
    "df_temp.to_csv('/Users/cgu3/Documents/Crispr/documents/results/group1_hits.csv', index=False)"
   ],
   "metadata": {
    "collapsed": false,
    "ExecuteTime": {
     "end_time": "2024-04-23T20:12:15.898838Z",
     "start_time": "2024-04-23T20:12:15.874546Z"
    }
   },
   "id": "8c5494a5ce7d119c",
   "execution_count": 25
  },
  {
   "cell_type": "code",
   "outputs": [],
   "source": [
    "# # remove NTC from the gene symbol\n",
    "# df_temp = df[~df['Gene'].str.contains('NTC')]\n",
    "# # sort by gene_score in descending order\n",
    "# top_100_gene_list = list(df_temp.sort_values(by='gene_score', ascending=False).iloc[:100].index)\n",
    "# # output as text with each gene in a new line\n",
    "# with open('/Users/cgu3/Documents/Crispr/documents/supplementary files/top100_genes.txt', 'w') as f:\n",
    "#     for item in top_100_gene_list:\n",
    "#         f.write(\"%s\\n\" % item)"
   ],
   "metadata": {
    "collapsed": false,
    "ExecuteTime": {
     "end_time": "2024-04-23T20:12:16.480361Z",
     "start_time": "2024-04-23T20:12:16.474123Z"
    }
   },
   "id": "740fce3c7ad7ca95",
   "execution_count": 26
  },
  {
   "cell_type": "markdown",
   "source": [
    "## Volcano plot"
   ],
   "metadata": {
    "collapsed": false
   },
   "id": "469b61533e7a3cc"
  },
  {
   "cell_type": "code",
   "outputs": [
    {
     "data": {
      "text/plain": "<matplotlib.collections.PathCollection at 0x7fa5b0df4520>"
     },
     "execution_count": 27,
     "metadata": {},
     "output_type": "execute_result"
    },
    {
     "data": {
      "text/plain": "<matplotlib.collections.PathCollection at 0x7fa5b0d99540>"
     },
     "execution_count": 27,
     "metadata": {},
     "output_type": "execute_result"
    },
    {
     "data": {
      "text/plain": "<matplotlib.collections.PathCollection at 0x7fa5993ddae0>"
     },
     "execution_count": 27,
     "metadata": {},
     "output_type": "execute_result"
    },
    {
     "data": {
      "text/plain": "<matplotlib.collections.PathCollection at 0x7fa5b0d9bbe0>"
     },
     "execution_count": 27,
     "metadata": {},
     "output_type": "execute_result"
    },
    {
     "data": {
      "text/plain": "<matplotlib.collections.PathCollection at 0x7fa5b0d9a5f0>"
     },
     "execution_count": 27,
     "metadata": {},
     "output_type": "execute_result"
    },
    {
     "data": {
      "text/plain": "[<matplotlib.lines.Line2D at 0x7fa5b0d9a4a0>]"
     },
     "execution_count": 27,
     "metadata": {},
     "output_type": "execute_result"
    },
    {
     "data": {
      "text/plain": "[<matplotlib.lines.Line2D at 0x7fa5b0d9bf70>]"
     },
     "execution_count": 27,
     "metadata": {},
     "output_type": "execute_result"
    },
    {
     "data": {
      "text/plain": "(-12.493778144535106, 12.493778144535106)"
     },
     "execution_count": 27,
     "metadata": {},
     "output_type": "execute_result"
    },
    {
     "data": {
      "text/plain": "(0.0, 3.0)"
     },
     "execution_count": 27,
     "metadata": {},
     "output_type": "execute_result"
    },
    {
     "data": {
      "text/plain": "<matplotlib.legend.Legend at 0x7fa5b0dd59c0>"
     },
     "execution_count": 27,
     "metadata": {},
     "output_type": "execute_result"
    },
    {
     "data": {
      "text/plain": "Text(0.5, 0, 'Ndufs4+/+        Phenotype         Ndufs4+/-')"
     },
     "execution_count": 27,
     "metadata": {},
     "output_type": "execute_result"
    },
    {
     "data": {
      "text/plain": "Text(0, 0.5, '-log10 P')"
     },
     "execution_count": 27,
     "metadata": {},
     "output_type": "execute_result"
    },
    {
     "data": {
      "text/plain": "Text(0.5, 1.0, 'Group 1')"
     },
     "execution_count": 27,
     "metadata": {},
     "output_type": "execute_result"
    },
    {
     "data": {
      "text/plain": "<Figure size 640x480 with 1 Axes>",
      "image/png": "[encoded data removed]"
     },
     "metadata": {},
     "output_type": "display_data"
    }
   ],
   "source": [
    "df_pos = df_hits[df_hits['LFC'] > 0]\n",
    "df_neg = df_hits[df_hits['LFC'] < 0]\n",
    "plt.scatter(df_pos['LFC'], -np.log10(df_pos['pvalue']), c=\"#DC0000FF\", s=5, label='Positive hits')\n",
    "plt.scatter(df_neg['LFC'], -np.log10(df_neg['pvalue']), c=\"#3C5488FF\", s=5, label='Negative hits')\n",
    "plt.scatter(df['LFC'], -np.log10(df['pvalue']), c='#F39B7FFF', s=5, label='Other genes')\n",
    "plt.scatter(df_pos['LFC'], -np.log10(df_pos['pvalue']), c=\"#DC0000FF\", s=5, label=None)\n",
    "plt.scatter(df_neg['LFC'], -np.log10(df_neg['pvalue']), c=\"#3C5488FF\", s=5, label=None)\n",
    "# plt.scatter(df_ntc['LFC'], -np.log10(df_ntc['pvalue']), c='grey', s=5, label=\"Negative control\")\n",
    "genes = list(df['Gene'])\n",
    "phenotype = list(df['LFC'])\n",
    "p_value = list(-np.log10(df['pvalue']))\n",
    "i = 0\n",
    "# for x, y, s in zip(phenotype, p_value, genes):\n",
    "#     if s in genes_to_label:\n",
    "#         plt.annotate(s, (x + np.random.uniform(-3, 3), y + np.random.uniform(-0.1, 0.1)), fontsize=10, color='black')\n",
    "#         if i == 0:\n",
    "#             plt.scatter(x, y, c='darkgreen', s=5, label='Genes of interest')\n",
    "#         else:\n",
    "#             plt.scatter(x, y, c='darkgreen', s=5)\n",
    "#         i = 1\n",
    "# if str(label_all_sig_genes) == '1':\n",
    "#     genes = list(df_hits['gene'])\n",
    "#     phenotype = list(df_hits['LFC'])\n",
    "#     p_value = list(-np.log10(df_hits['pvalue']))\n",
    "#     for x, y, s in zip(phenotype, p_value, genes):\n",
    "#         plt.annotate(s, (x, y), fontsize=16)\n",
    "\n",
    "x = np.arange(0.01, 10, 0.01)\n",
    "y = [thres / i for i in x]\n",
    "plt.plot(x, y, '--', c='k', )\n",
    "plt.plot(-x, y, '--', c='k', label='FDR = %s' % fdr)\n",
    "lim = max(abs(df['LFC'].min() - 1), (df['LFC'].max() + 2))\n",
    "plt.xlim(-lim, lim)\n",
    "plt.ylim(0, -np.log10(df['pvalue'].min()) + 1)\n",
    "plt.legend(loc=2, fontsize=10, fancybox=True)\n",
    "plt.xlabel('Ndufs4+/+        Phenotype         Ndufs4+/-', fontsize=14)\n",
    "plt.ylabel('-log10 P', fontsize=14)\n",
    "plt.title('Group 1', fontsize=18)\n",
    "plt.savefig('/Users/cgu3/Documents/Crispr/documents/Figures/group1_volcano_plot.png', bbox_inches='tight');\n",
    "plt.show()"
   ],
   "metadata": {
    "collapsed": false,
    "ExecuteTime": {
     "end_time": "2024-04-23T20:12:17.429479Z",
     "start_time": "2024-04-23T20:12:16.854848Z"
    }
   },
   "id": "6553e435c2ce22b1",
   "execution_count": 27
  },
  {
   "cell_type": "code",
   "outputs": [],
   "source": [
    "plot_data = df[['Gene', 'gene_score', 'LFC', 'pvalue']]\n",
    "# sort the data in acsending order\n",
    "plot_data = plot_data.sort_values(by='gene_score')\n",
    "# add jitter to the statistic\n",
    "# plot_data['statistic'] = plot_data['statistic'] + np.random.uniform(-0.05, 0.05, len(plot_data))\n",
    "# add a column from 1 to the length of the data\n",
    "plot_data = plot_data.reset_index()\n",
    "# create a column to store the color of the data point, if the gene is in het_specific_group_1, set the color to red, if the gene is in wt_specific_group_1, set the color to blue, otherwise set the color to black\n",
    "plot_data['color'] = 'black'\n",
    "# get index of rows that the column Gene is in het_specific_group_1_gene_list\n",
    "# get the column idx that is 'color' in the dataframe\n",
    "# set the color of the data point to red"
   ],
   "metadata": {
    "collapsed": false,
    "ExecuteTime": {
     "end_time": "2024-04-23T20:12:17.506496Z",
     "start_time": "2024-04-23T20:12:17.435813Z"
    }
   },
   "id": "c931274fd7b4b02",
   "execution_count": 28
  },
  {
   "cell_type": "code",
   "outputs": [
    {
     "data": {
      "text/plain": "                 pvalue        LFC  gene_score           Gene\n0610012H03Rik  0.010000  -9.178646  -18.766917  0610012H03Rik\n1700019L03Rik  0.024994  -6.373027  -13.030470  1700019L03Rik\n2310047M10Rik  0.033677   9.233454   18.878977  2310047M10Rik\n2900011O08Rik  0.010000 -10.427319  -21.319987  2900011O08Rik\n9530077C05Rik  0.034769   7.991984   16.340634  9530077C05Rik\n...                 ...        ...         ...            ...\nNTC_10560      0.029521   9.297469   13.343448      NTC_10560\nNTC_11051      0.010000   9.057679   18.519583      NTC_11051\nNTC_11419      0.041986  -9.389723  -13.475848      NTC_11419\nNTC_11909      0.063454   9.376827   13.457340      NTC_11909\nNTC_16437      0.010000   9.637642   13.831655      NTC_16437\n\n[122 rows x 4 columns]",
      "text/html": "<div>\n<style scoped>\n    .dataframe tbody tr th:only-of-type {\n        vertical-align: middle;\n    }\n\n    .dataframe tbody tr th {\n        vertical-align: top;\n    }\n\n    .dataframe thead th {\n        text-align: right;\n    }\n</style>\n<table border=\"1\" class=\"dataframe\">\n  <thead>\n    <tr style=\"text-align: right;\">\n      <th></th>\n      <th>pvalue</th>\n      <th>LFC</th>\n      <th>gene_score</th>\n      <th>Gene</th>\n    </tr>\n  </thead>\n  <tbody>\n    <tr>\n      <th>0610012H03Rik</th>\n      <td>0.010000</td>\n      <td>-9.178646</td>\n      <td>-18.766917</td>\n      <td>0610012H03Rik</td>\n    </tr>\n    <tr>\n      <th>1700019L03Rik</th>\n      <td>0.024994</td>\n      <td>-6.373027</td>\n      <td>-13.030470</td>\n      <td>1700019L03Rik</td>\n    </tr>\n    <tr>\n      <th>2310047M10Rik</th>\n      <td>0.033677</td>\n      <td>9.233454</td>\n      <td>18.878977</td>\n      <td>2310047M10Rik</td>\n    </tr>\n    <tr>\n      <th>2900011O08Rik</th>\n      <td>0.010000</td>\n      <td>-10.427319</td>\n      <td>-21.319987</td>\n      <td>2900011O08Rik</td>\n    </tr>\n    <tr>\n      <th>9530077C05Rik</th>\n      <td>0.034769</td>\n      <td>7.991984</td>\n      <td>16.340634</td>\n      <td>9530077C05Rik</td>\n    </tr>\n    <tr>\n      <th>...</th>\n      <td>...</td>\n      <td>...</td>\n      <td>...</td>\n      <td>...</td>\n    </tr>\n    <tr>\n      <th>NTC_10560</th>\n      <td>0.029521</td>\n      <td>9.297469</td>\n      <td>13.343448</td>\n      <td>NTC_10560</td>\n    </tr>\n    <tr>\n      <th>NTC_11051</th>\n      <td>0.010000</td>\n      <td>9.057679</td>\n      <td>18.519583</td>\n      <td>NTC_11051</td>\n    </tr>\n    <tr>\n      <th>NTC_11419</th>\n      <td>0.041986</td>\n      <td>-9.389723</td>\n      <td>-13.475848</td>\n      <td>NTC_11419</td>\n    </tr>\n    <tr>\n      <th>NTC_11909</th>\n      <td>0.063454</td>\n      <td>9.376827</td>\n      <td>13.457340</td>\n      <td>NTC_11909</td>\n    </tr>\n    <tr>\n      <th>NTC_16437</th>\n      <td>0.010000</td>\n      <td>9.637642</td>\n      <td>13.831655</td>\n      <td>NTC_16437</td>\n    </tr>\n  </tbody>\n</table>\n<p>122 rows × 4 columns</p>\n</div>"
     },
     "execution_count": 29,
     "metadata": {},
     "output_type": "execute_result"
    }
   ],
   "source": [
    "df_hits"
   ],
   "metadata": {
    "collapsed": false,
    "ExecuteTime": {
     "end_time": "2024-04-23T20:12:17.508144Z",
     "start_time": "2024-04-23T20:12:17.464672Z"
    }
   },
   "id": "9b3a0d936d7e2c57",
   "execution_count": 29
  },
  {
   "cell_type": "markdown",
   "source": [
    "## gene score plot"
   ],
   "metadata": {
    "collapsed": false
   },
   "id": "dc9cd071ee0e82a7"
  },
  {
   "cell_type": "code",
   "outputs": [
    {
     "name": "stderr",
     "output_type": "stream",
     "text": [
      "/Users/cgu3/anaconda3/envs/mageckenv/lib/python3.10/site-packages/matplotlib/text.py:1461: FutureWarning: Calling float on a single element Series is deprecated and will raise a TypeError in the future. Use float(ser.iloc[0]) instead\n",
      "  x = float(self.convert_xunits(x))\n",
      "/Users/cgu3/anaconda3/envs/mageckenv/lib/python3.10/site-packages/matplotlib/text.py:1463: FutureWarning: Calling float on a single element Series is deprecated and will raise a TypeError in the future. Use float(ser.iloc[0]) instead\n",
      "  y = float(self.convert_yunits(y))\n",
      "/Users/cgu3/anaconda3/envs/mageckenv/lib/python3.10/site-packages/matplotlib/text.py:894: FutureWarning: Calling float on a single element Series is deprecated and will raise a TypeError in the future. Use float(ser.iloc[0]) instead\n",
      "  x = float(self.convert_xunits(self._x))\n",
      "/Users/cgu3/anaconda3/envs/mageckenv/lib/python3.10/site-packages/matplotlib/text.py:895: FutureWarning: Calling float on a single element Series is deprecated and will raise a TypeError in the future. Use float(ser.iloc[0]) instead\n",
      "  y = float(self.convert_yunits(self._y))\n",
      "/Users/cgu3/anaconda3/envs/mageckenv/lib/python3.10/site-packages/matplotlib/text.py:753: FutureWarning: Calling float on a single element Series is deprecated and will raise a TypeError in the future. Use float(ser.iloc[0]) instead\n",
      "  posx = float(self.convert_xunits(self._x))\n",
      "/Users/cgu3/anaconda3/envs/mageckenv/lib/python3.10/site-packages/matplotlib/text.py:754: FutureWarning: Calling float on a single element Series is deprecated and will raise a TypeError in the future. Use float(ser.iloc[0]) instead\n",
      "  posy = float(self.convert_yunits(self._y))\n"
     ]
    },
    {
     "data": {
      "text/plain": "<Figure size 1000x600 with 1 Axes>",
      "image/png": "[encoded data removed]"
     },
     "metadata": {},
     "output_type": "display_data"
    }
   ],
   "source": [
    "# only keep data without NTC in the gene symbol\n",
    "scatter_plot_data = plot_data[~plot_data['Gene'].str.contains('NTC')].copy()\n",
    "scatter_plot_data.reset_index(inplace=True, drop=True)\n",
    "scatter_plot_data.loc[np.where(scatter_plot_data['Gene'].isin(het_specific_group_1_gene_list))[0], 'color'] = 'red'\n",
    "scatter_plot_data.loc[np.where(scatter_plot_data['Gene'].isin(wt_specific_group_1_gene_list))[0], 'color'] = 'blue'\n",
    "import matplotlib.patches as mpatches\n",
    "import random\n",
    "\n",
    "genes_to_label = [ 'Dgkk', 'Nr3c2', 'Hif1a', 'Zcchc13', 'Ecsit', 'Dgkg', 'Pik3ca', 'Atf1']\n",
    "# 'Smyd2'\n",
    "\n",
    "\n",
    "plt.figure(figsize=(10, 6));\n",
    "# plot the point of  data and use position as x-axis\n",
    "li = plt.scatter(y=scatter_plot_data['gene_score'], x=list(scatter_plot_data.index), marker='o', s=1, c=scatter_plot_data['color']);\n",
    "plt.xlabel('Rank');\n",
    "plt.ylabel('Low Signal <--- Gene Score ---> High Signal');\n",
    "plt.title('Group 1');\n",
    "# legend for three colors red, blue and black with corresponding labels HET, WT and Other\n",
    "# plot a x-axis tick \"100\" every 100 points with gene symbol as label\n",
    "plt.xticks(range(0, len(scatter_plot_data), 1000),  rotation=90);\n",
    "\n",
    "scatter_plot_data.loc[:, 'x'] = li.get_offsets().data[:,0]\n",
    "scatter_plot_data.loc[:, 'y'] = li.get_offsets().data[:,1]\n",
    "# get location of the gene symbol: Prok2, Dgkk, Nr3c2, Hif1a, Smyd2, Zcchc13, Ecsit, Dgkg, Pik3ca, Atf1\n",
    "annot_data = scatter_plot_data.loc[scatter_plot_data['Gene'].isin(genes_to_label)]\n",
    "annot_data.reset_index(inplace=True, drop=True)\n",
    "# annotate the gene symbol with arrow to the data point in the annot_data\n",
    "for i in range(len(annot_data)):\n",
    "    # y_offset = -5 if annot_data.iloc[i]['gene_score'] < 0 else 5\n",
    "    if annot_data.iloc[i]['gene_score'] < 0:\n",
    "        y_offset = annot_data.iloc[i]['gene_score']  -10\n",
    "        x_offset = 5000 if annot_data.iloc[i]['gene_score'] < 0 else -5000\n",
    "    else:\n",
    "        y_offset = 0\n",
    "        x_offset = 5000 if annot_data.iloc[i]['gene_score'] < 0 else -5000\n",
    "\n",
    "    plt.annotate(\n",
    "        annot_data.iloc[i]['Gene'],\n",
    "        xy=(annot_data.iloc[i]['x'], annot_data.iloc[i]['y']),\n",
    "        xytext=(annot_data.iloc[i]['x'] + x_offset, annot_data.iloc[i]['y']+ y_offset),\n",
    "        arrowprops=dict(facecolor='black',  arrowstyle=\"-\"),\n",
    "        horizontalalignment='right', verticalalignment='bottom'\n",
    "    );\n",
    "    \n",
    "# individually plot gene Prok2' with arrow to the data point\n",
    "plt.annotate('Prok2', xy=(scatter_plot_data.loc[scatter_plot_data['Gene'] == 'Prok2', 'x'], scatter_plot_data.loc[scatter_plot_data['Gene'] == 'Prok2', 'y']), xytext=(scatter_plot_data.loc[scatter_plot_data['Gene'] == 'Prok2', 'x'] + 3000, scatter_plot_data.loc[scatter_plot_data['Gene'] == 'Prok2', 'y'] + 5), arrowprops=dict(facecolor='black',  arrowstyle=\"-\"), horizontalalignment='right', verticalalignment='bottom'); \n",
    "# individually plot gene 'Smyd2' with arrow to the data point\n",
    "plt.annotate('Smyd2', xy=(scatter_plot_data.loc[scatter_plot_data['Gene'] == 'Smyd2', 'x'], scatter_plot_data.loc[scatter_plot_data['Gene'] == 'Smyd2', 'y']), xytext=(scatter_plot_data.loc[scatter_plot_data['Gene'] == 'Smyd2', 'x'] + 3000, scatter_plot_data.loc[scatter_plot_data['Gene'] == 'Smyd2', 'y'] + 5), arrowprops=dict(facecolor='black',  arrowstyle=\"-\"), horizontalalignment='right', verticalalignment='bottom');\n",
    "\n",
    "red_patch = mpatches.Patch(color='red', label='Heterozygous specific')\n",
    "blue_patch = mpatches.Patch(color='blue', label='Wild-type specific')\n",
    "black_patch = mpatches.Patch(color='black', label='Other genes')\n",
    "# plot legend at bottom right location\n",
    "plt.legend(handles=[red_patch, blue_patch, black_patch], loc='lower right', fontsize=10);\n",
    "plt.savefig('/Users/cgu3/Documents/Crispr/documents/Figures/group1_gene_score_plot.png', bbox_inches='tight');\n",
    "plt.show();"
   ],
   "metadata": {
    "collapsed": false,
    "ExecuteTime": {
     "end_time": "2024-04-23T20:12:18.929823Z",
     "start_time": "2024-04-23T20:12:17.654645Z"
    }
   },
   "id": "8273628cb04fc077",
   "execution_count": 30
  },
  {
   "cell_type": "code",
   "outputs": [],
   "source": [
    "# import gseapy as gp\n",
    "# rnk = df_hits.loc[:, ['Gene', 'gene_score']]\n",
    "# # remove NTC from the gene symbol\n",
    "# rnk = rnk[~rnk['Gene'].str.contains('NTC')]\n",
    "# # remove Rik from the gene symbol\n",
    "# rnk = rnk[~rnk['Gene'].str.contains('Rik')]\n",
    "# # use Gene as index\n",
    "# rnk = rnk.set_index('Gene')\n",
    "# # remove Gene column\n",
    "# rnk = rnk.iloc[:, [0]]\n",
    "# pos= list(rnk[rnk['gene_score'] > 0].index)\n",
    "# neg = rnk[rnk['gene_score'] < 0].index.str\n",
    "# \n",
    "# enr = gp.enrichr(gene_list=pos, # or \"./tests/data/gene_list.txt\",\n",
    "#                  gene_sets='../../library/m5.go.bp.v2023.2.Mm.symbols.gmt',\n",
    "#                  organism='Mus musculus', # don't forget to set organism to the one you desired! e.g. Yeast\n",
    "#                  outdir=None, # don't write to disk\n",
    "#                  )\n",
    "# \n",
    "# \n",
    "# # pre_res = gp.prerank(rnk=rnk, # or rnk = rnk,\n",
    "# #                      gene_sets='../../library/m5.go.bp.v2023.2.Mm.symbols.gmt',\n",
    "# #                      threads=4,\n",
    "# #                      min_size=5,\n",
    "# #                      max_size=1000,\n",
    "# #                      permutation_num=1000, # reduce number to speed up testing\n",
    "# #                      outdir=None, # don't write to disk\n",
    "# #                      seed=6,\n",
    "# #                      verbose=True # see what's going on behind the scenes\n",
    "# #                      )"
   ],
   "metadata": {
    "collapsed": false,
    "ExecuteTime": {
     "end_time": "2024-04-23T20:12:19.064954Z",
     "start_time": "2024-04-23T20:12:18.995586Z"
    }
   },
   "id": "c401543a602492f2",
   "execution_count": 31
  },
  {
   "cell_type": "code",
   "outputs": [],
   "source": [
    "# pre_res.res2d"
   ],
   "metadata": {
    "collapsed": false,
    "ExecuteTime": {
     "end_time": "2024-04-23T20:12:19.067041Z",
     "start_time": "2024-04-23T20:12:19.000189Z"
    }
   },
   "id": "8b33a3a506950e17",
   "execution_count": 32
  },
  {
   "cell_type": "code",
   "outputs": [],
   "source": [
    "# enr.res2d"
   ],
   "metadata": {
    "collapsed": false,
    "ExecuteTime": {
     "end_time": "2024-04-23T20:12:19.067266Z",
     "start_time": "2024-04-23T20:12:19.002109Z"
    }
   },
   "id": "3264de5f9e83cfb6",
   "execution_count": 33
  },
  {
   "cell_type": "code",
   "outputs": [],
   "source": [
    "# # enr.res2d\n",
    "# \n",
    "# # filter the result with p-value < 0.05\n",
    "# pre_res_cutoff =  pre_res.res2d[pre_res.res2d['NOM p-val'] < 0.20].copy()\n",
    "# # remove GOBP from Term\n",
    "# pre_res_cutoff['Term'] = pre_res_cutoff['Term'].str.replace('GOBP_', '')\n",
    "# # keep only NES with positive values\n",
    "# pos_res = pre_res_cutoff[pre_res_cutoff['NES'] > 0]\n",
    "# neg_res = pre_res_cutoff[pre_res_cutoff['NES'] < 0]\n",
    "# # keep the top 5 positive NES\n",
    "# pos_genes = pos_res.sort_values(by='NES', ascending=False)[:5]\n",
    "# neg_genes = neg_res.sort_values(by='NES', ascending=True)[:5]"
   ],
   "metadata": {
    "collapsed": false,
    "ExecuteTime": {
     "end_time": "2024-04-23T20:12:19.086856Z",
     "start_time": "2024-04-23T20:12:19.006135Z"
    }
   },
   "id": "a3a1231da9e717b",
   "execution_count": 34
  },
  {
   "cell_type": "code",
   "outputs": [],
   "source": [
    "# # barplot NES\n",
    "# fig, ax = plt.subplots(2)\n",
    "# \n",
    "# # plt.subplots_adjust(top=0.9)\n",
    "# ax[0].barh(pos_genes['Term'], pos_genes['NES'], color='red')\n",
    "# ax[0].xaxis.tick_top()\n",
    "# ax[1].barh(neg_genes['Term'], neg_genes['NES'])\n",
    "# ax[1].yaxis.tick_right()\n",
    "# \n",
    "# ax[0].spines['right'].set_visible(False)\n",
    "# ax[0].spines['bottom'].set_visible(False)\n",
    "# \n",
    "# \n",
    "# ax[1].spines['top'].set_visible(False)\n",
    "# ax[1].spines['left'].set_visible(False)"
   ],
   "metadata": {
    "collapsed": false,
    "ExecuteTime": {
     "end_time": "2024-04-23T20:12:19.087451Z",
     "start_time": "2024-04-23T20:12:19.009457Z"
    }
   },
   "id": "c6a155b17f76c70f",
   "execution_count": 35
  },
  {
   "cell_type": "markdown",
   "source": [
    "# For sample 6"
   ],
   "metadata": {
    "collapsed": false
   },
   "id": "cada5bea143ab0e3"
  },
  {
   "cell_type": "code",
   "outputs": [],
   "source": [],
   "metadata": {
    "collapsed": false,
    "ExecuteTime": {
     "end_time": "2024-04-23T20:12:19.243053Z",
     "start_time": "2024-04-23T20:12:19.234806Z"
    }
   },
   "id": "cf5825a5fa7a3fdd",
   "execution_count": 35
  },
  {
   "cell_type": "code",
   "outputs": [],
   "source": [
    "df = norm_data_6[[('pvalue', ''), ('LFC', '')]]\n",
    "df.columns=['pvalue', 'LFC']\n",
    "# combine the negative control data with the data from the sample\n",
    "df = pd.concat([df, ntc_data_6])\n",
    "# remove row if p-value is NaN\n",
    "df = df.dropna()\n",
    "df['gene_score'] = df['LFC'] * (-np.log10(df['pvalue']))\n",
    "# add index as column to the dataframe \"Gene\"\n",
    "df['Gene'] = df.index\n",
    "# add jitter to the p-value\n",
    "df['pvalue'] = df['pvalue'] + np.random.uniform(-0.03, 0.03, len(df))\n",
    "# cap p-value between 0 and 1\n",
    "df['pvalue'] = df['pvalue'].clip(0.01, 1)"
   ],
   "metadata": {
    "collapsed": false,
    "ExecuteTime": {
     "end_time": "2024-04-23T20:12:19.686436Z",
     "start_time": "2024-04-23T20:12:19.670004Z"
    }
   },
   "id": "59461661f5282619",
   "execution_count": 36
  },
  {
   "cell_type": "code",
   "outputs": [],
   "source": [
    "fdr = 0.10\n",
    "thres, df_hits = product_threshold_fdr(df, fdr)\n",
    "# df.sort_values('product', ascending=False).to_csv(output_folder + '/' + output_name + '_all_genes.csv', index=False)\n",
    "# df_hits.sort_values('product', ascending=False).to_csv(\n",
    "#     output_folder + '/' + output_name + '_fdr%s_product%s_hits.csv' % (fdr, thres), index=False)\n",
    "df_ntc = df[df['Gene'].str.contains('NTC')]"
   ],
   "metadata": {
    "collapsed": false,
    "ExecuteTime": {
     "end_time": "2024-04-23T20:12:23.215895Z",
     "start_time": "2024-04-23T20:12:20.629986Z"
    }
   },
   "id": "e86309145bd4a764",
   "execution_count": 37
  },
  {
   "cell_type": "code",
   "outputs": [],
   "source": [
    "# remove gene symbol with NTC from df_hits\n",
    "df_temp = df_hits[~df_hits['Gene'].str.contains('NTC')]\n",
    "df_temp.to_csv('/Users/cgu3/Documents/Crispr/documents/results/group6_hits.csv', index=False)"
   ],
   "metadata": {
    "collapsed": false,
    "ExecuteTime": {
     "end_time": "2024-04-23T20:12:29.526126Z",
     "start_time": "2024-04-23T20:12:29.439885Z"
    }
   },
   "id": "e83b66e544ac5174",
   "execution_count": 38
  },
  {
   "cell_type": "code",
   "outputs": [],
   "source": [
    "df_pos = df_hits[df_hits['LFC'] > 0]\n",
    "df_neg = df_hits[df_hits['LFC'] < 0]\n",
    "plt.scatter(df_pos['LFC'], -np.log10(df_pos['pvalue']), c=\"#DC0000FF\", s=5, label='Positive hits')\n",
    "plt.scatter(df_neg['LFC'], -np.log10(df_neg['pvalue']), c=\"#3C5488FF\", s=5, label='Negative hits')\n",
    "plt.scatter(df['LFC'], -np.log10(df['pvalue']), c='#F39B7FFF', s=5, label='Other genes')\n",
    "plt.scatter(df_pos['LFC'], -np.log10(df_pos['pvalue']), c=\"#DC0000FF\", s=5, label=None)\n",
    "plt.scatter(df_neg['LFC'], -np.log10(df_neg['pvalue']), c=\"#3C5488FF\", s=5, label=None)\n",
    "# plt.scatter(df_ntc['LFC'], -np.log10(df_ntc['pvalue']), c='grey', s=5, label=\"Negative control\")\n",
    "genes = list(df['Gene'])\n",
    "phenotype = list(df['LFC'])\n",
    "p_value = list(-np.log10(df['pvalue']))\n",
    "i = 0\n",
    "# for x, y, s in zip(phenotype, p_value, genes):\n",
    "#     if s in genes_to_label:\n",
    "#         plt.annotate(s, (x + np.random.uniform(-3, 3), y + np.random.uniform(-0.1, 0.1)), fontsize=10, color='black')\n",
    "#         if i == 0:\n",
    "#             plt.scatter(x, y, c='darkgreen', s=5, label='Genes of interest')\n",
    "#         else:\n",
    "#             plt.scatter(x, y, c='darkgreen', s=5)\n",
    "#         i = 1\n",
    "# if str(label_all_sig_genes) == '1':\n",
    "#     genes = list(df_hits['gene'])\n",
    "#     phenotype = list(df_hits['LFC'])\n",
    "#     p_value = list(-np.log10(df_hits['pvalue']))\n",
    "#     for x, y, s in zip(phenotype, p_value, genes):\n",
    "#         plt.annotate(s, (x, y), fontsize=16)\n",
    "\n",
    "x = np.arange(0.01, 10, 0.01)\n",
    "y = [thres / i for i in x]\n",
    "plt.plot(x, y, '--', c='k', )\n",
    "plt.plot(-x, y, '--', c='k', label='FDR = %s' % fdr)\n",
    "lim = max(abs(df['LFC'].min() - 1), (df['LFC'].max() + 2))\n",
    "plt.xlim(-lim, lim)\n",
    "plt.ylim(0, -np.log10(df['pvalue'].min()) + 1)\n",
    "plt.legend(loc=2, fontsize=10, fancybox=True)\n",
    "plt.xlabel('Ndufs4+/+        Phenotype         Ndufs4+/-', fontsize=14)\n",
    "plt.ylabel('-log10 P', fontsize=14)\n",
    "plt.title('Group 6', fontsize=18)\n",
    "# plt.savefig(output_folder + \"/\" + output_name + '_volcano_plot.pdf')\n",
    "plt.savefig('/Users/cgu3/Documents/Crispr/documents/Figures/group6_volcano_plot.png', bbox_inches='tight');\n",
    "plt.show()"
   ],
   "metadata": {
    "collapsed": false,
    "ExecuteTime": {
     "start_time": "2024-04-23T16:02:22.537643Z"
    }
   },
   "id": "31d0304cc08697f",
   "execution_count": null
  },
  {
   "cell_type": "code",
   "outputs": [],
   "source": [
    "plot_data = df[['Gene', 'gene_score', 'LFC', 'pvalue']]\n",
    "# sort the data in acsending order\n",
    "plot_data = plot_data.sort_values(by='gene_score')\n",
    "# add jitter to the statistic\n",
    "# plot_data['statistic'] = plot_data['statistic'] + np.random.uniform(-0.05, 0.05, len(plot_data))\n",
    "# add a column from 1 to the length of the data\n",
    "plot_data = plot_data.reset_index()\n",
    "# create a column to store the color of the data point, if the gene is in het_specific_group_1, set the color to red, if the gene is in wt_specific_group_1, set the color to blue, otherwise set the color to black\n",
    "plot_data['color'] = 'black'\n",
    "# get index of rows that the column Gene is in het_specific_group_1_gene_list\n",
    "# get the column idx that is 'color' in the dataframe\n",
    "# set the color of the data point to red"
   ],
   "metadata": {
    "collapsed": false,
    "ExecuteTime": {
     "end_time": "2024-04-23T16:02:22.595897Z",
     "start_time": "2024-04-23T16:02:22.539287Z"
    }
   },
   "id": "d41c076d953a4f72",
   "execution_count": null
  },
  {
   "cell_type": "code",
   "outputs": [],
   "source": [
    "# only keep data without NTC in the gene symbol\n",
    "scatter_plot_data = plot_data[~plot_data['Gene'].str.contains('NTC')].copy()\n",
    "scatter_plot_data.reset_index(inplace=True, drop=True)\n",
    "scatter_plot_data.loc[np.where(scatter_plot_data['Gene'].isin(het_specific_group_6_gene_list))[0], 'color'] = 'red'\n",
    "scatter_plot_data.loc[np.where(scatter_plot_data['Gene'].isin(wt_specific_group_6_gene_list))[0], 'color'] = 'blue'\n",
    "import matplotlib.patches as mpatches\n",
    "import random\n",
    "\n",
    "genes_to_label = ['Pus1 ', 'Glo1', 'Chuk', 'Mapk3', 'Wnt1']\n",
    "\n",
    "\n",
    "plt.figure(figsize=(10, 6));\n",
    "# plot the point of  data and use position as x-axis\n",
    "li = plt.scatter(y=scatter_plot_data['gene_score'], x=list(scatter_plot_data.index), marker='o', s=1, c=scatter_plot_data['color']);\n",
    "plt.xlabel('Rank');\n",
    "plt.ylabel('Low Signal <--- Gene Score ---> High Signal');\n",
    "plt.title('Group 6');\n",
    "# legend for three colors red, blue and black with corresponding labels HET, WT and Other\n",
    "# plot a x-axis tick \"100\" every 100 points with gene symbol as label\n",
    "plt.xticks(range(0, len(scatter_plot_data), 1000),  rotation=90);\n",
    "\n",
    "scatter_plot_data.loc[:, 'x'] = li.get_offsets().data[:,0]\n",
    "scatter_plot_data.loc[:, 'y'] = li.get_offsets().data[:,1]\n",
    "annot_data = scatter_plot_data.loc[scatter_plot_data['Gene'].isin(genes_to_label)]\n",
    "annot_data.reset_index(inplace=True, drop=True)\n",
    "# annotate the gene symbol with arrow to the data point in the annot_data\n",
    "for i in range(len(annot_data)):\n",
    "    # y_offset = -5 if annot_data.iloc[i]['gene_score'] < 0 else 5\n",
    "    if annot_data.iloc[i]['gene_score'] < 0:\n",
    "        y_offset = annot_data.iloc[i]['gene_score']  -10\n",
    "        x_offset = 5000 if annot_data.iloc[i]['gene_score'] < 0 else -5000\n",
    "    else:\n",
    "        y_offset = 10\n",
    "        x_offset = 3000 if annot_data.iloc[i]['gene_score'] < 0 else  -3000\n",
    "\n",
    "    plt.annotate(\n",
    "        annot_data.iloc[i]['Gene'],\n",
    "        xy=(annot_data.iloc[i]['x'], annot_data.iloc[i]['y']),\n",
    "        xytext=(annot_data.iloc[i]['x'] + x_offset, annot_data.iloc[i]['y']+ y_offset),\n",
    "        arrowprops=dict(facecolor='black',  arrowstyle=\"-\"),\n",
    "        horizontalalignment='right', verticalalignment='bottom'\n",
    "    );\n",
    "\n",
    "# # individually plot gene 'Hdac4' with arrow to the data point\n",
    "plt.annotate('Hdac4', xy=(scatter_plot_data.loc[scatter_plot_data['Gene'] == 'Hdac4', 'x'], scatter_plot_data.loc[scatter_plot_data['Gene'] == 'Hdac4', 'y']), xytext=(scatter_plot_data.loc[scatter_plot_data['Gene'] == 'Hdac4', 'x'] - 2000, scatter_plot_data.loc[scatter_plot_data['Gene'] == 'Hdac4', 'y'] - 10), arrowprops=dict(facecolor='black',  arrowstyle=\"-\"), horizontalalignment='right', verticalalignment='bottom');\n",
    "# # # individually plot gene 'Pus1' with arrow to the data point\n",
    "plt.annotate('Pus1', xy=(scatter_plot_data.loc[scatter_plot_data['Gene'] == 'Pus1', 'x'], scatter_plot_data.loc[scatter_plot_data['Gene'] == 'Pus1', 'y']), xytext=(scatter_plot_data.loc[scatter_plot_data['Gene'] == 'Pus1', 'x'] + 1000, scatter_plot_data.loc[scatter_plot_data['Gene'] == 'Pus1', 'y'] + 10), arrowprops=dict(facecolor='black',  arrowstyle=\"-\"), horizontalalignment='right', verticalalignment='bottom');\n",
    "# # # individually plot gene  'Map2k2' with arrow to the data point\n",
    "plt.annotate('Map2k2', xy=(scatter_plot_data.loc[scatter_plot_data['Gene'] == 'Map2k2', 'x'], scatter_plot_data.loc[scatter_plot_data['Gene'] == 'Map2k2', 'y']), xytext=(scatter_plot_data.loc[scatter_plot_data['Gene'] == 'Map2k2', 'x'] - 1000, scatter_plot_data.loc[scatter_plot_data['Gene'] == 'Map2k2', 'y'] - 20), arrowprops=dict(facecolor='black',  arrowstyle=\"-\"), horizontalalignment='right', verticalalignment='bottom');\n",
    "# # # individually plot gene 'Eif2ak2' with arrow to the data point\n",
    "plt.annotate('Eif2ak2', xy=(scatter_plot_data.loc[scatter_plot_data['Gene'] == 'Eif2ak2', 'x'], scatter_plot_data.loc[scatter_plot_data['Gene'] == 'Eif2ak2', 'y']), xytext=(scatter_plot_data.loc[scatter_plot_data['Gene'] == 'Eif2ak2', 'x'], scatter_plot_data.loc[scatter_plot_data['Gene'] == 'Eif2ak2', 'y'] - 20), arrowprops=dict(facecolor='black',  arrowstyle=\"-\"), horizontalalignment='right', verticalalignment='bottom');\n",
    "# individually plot gene ''Ppard' with arrow to the data point\n",
    "plt.annotate('Ppard', xy=(scatter_plot_data.loc[scatter_plot_data['Gene'] == 'Ppard', 'x'], scatter_plot_data.loc[scatter_plot_data['Gene'] == 'Ppard', 'y']), xytext=(scatter_plot_data.loc[scatter_plot_data['Gene'] == 'Ppard', 'x'] - 1000, scatter_plot_data.loc[scatter_plot_data['Gene'] == 'Ppard', 'y'] + 8), arrowprops=dict(facecolor='black',  arrowstyle=\"-\"), horizontalalignment='right', verticalalignment='bottom');\n",
    "# # individually plot gene 'Gli3' with arrow to the data point\n",
    "plt.annotate('Gli3', xy=(scatter_plot_data.loc[scatter_plot_data['Gene'] == 'Gli3', 'x'], scatter_plot_data.loc[scatter_plot_data['Gene'] == 'Gli3', 'y']), xytext=(scatter_plot_data.loc[scatter_plot_data['Gene'] == 'Gli3', 'x'] - 1000, scatter_plot_data.loc[scatter_plot_data['Gene'] == 'Gli3', 'y'] - 10), \n",
    "             #color to green\n",
    "             color='orange',\n",
    "             # bold the text\n",
    "                weight='bold',\n",
    "             arrowprops=dict(facecolor='green',  arrowstyle=\"-\"), horizontalalignment='right', verticalalignment='bottom');\n",
    "\n",
    "\n",
    "red_patch = mpatches.Patch(color='red', label='Heterozygous specific')\n",
    "blue_patch = mpatches.Patch(color='blue', label='Wild-type specific')\n",
    "black_patch = mpatches.Patch(color='black', label='Other genes')\n",
    "# plot legend at bottom right location\n",
    "plt.legend(handles=[red_patch, blue_patch, black_patch], loc='lower right', fontsize=10);\n",
    "# save the plot\n",
    "plt.savefig('/Users/cgu3/Documents/Crispr/documents/Figures/group6_gene_score_plot.png', bbox_inches='tight');\n",
    "plt.show();\n"
   ],
   "metadata": {
    "collapsed": false,
    "ExecuteTime": {
     "start_time": "2024-04-23T16:02:22.540580Z"
    }
   },
   "id": "8326d9efc4f7e1a2",
   "execution_count": null
  },
  {
   "cell_type": "code",
   "outputs": [],
   "source": [],
   "metadata": {
    "collapsed": false,
    "ExecuteTime": {
     "start_time": "2024-04-23T16:02:22.542063Z"
    }
   },
   "id": "84c54230a0b9c1e"
  },
  {
   "cell_type": "code",
   "outputs": [],
   "source": [],
   "metadata": {
    "collapsed": false,
    "ExecuteTime": {
     "start_time": "2024-04-23T16:02:22.543513Z"
    }
   },
   "id": "96eab7dfaef4371f"
  },
  {
   "cell_type": "code",
   "outputs": [],
   "source": [],
   "metadata": {
    "collapsed": false,
    "ExecuteTime": {
     "start_time": "2024-04-23T16:02:22.544802Z"
    }
   },
   "id": "c6b037ce330e2269"
  }
 ],
 "metadata": {
  "kernelspec": {
   "display_name": "Python 3",
   "language": "python",
   "name": "python3"
  },
  "language_info": {
   "codemirror_mode": {
    "name": "ipython",
    "version": 2
   },
   "file_extension": ".py",
   "mimetype": "text/x-python",
   "name": "python",
   "nbconvert_exporter": "python",
   "pygments_lexer": "ipython2",
   "version": "2.7.6"
  }
 },
 "nbformat": 4,
 "nbformat_minor": 5
}
