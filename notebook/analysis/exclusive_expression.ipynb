{
 "cells": [
  {
   "cell_type": "code",
   "outputs": [],
   "source": [
    "import pandas as pd\n",
    "# allow multiple outputs in one cell in jupyter notebook\n",
    "from IPython.core.interactiveshell import InteractiveShell\n",
    "InteractiveShell.ast_node_interactivity = \"all\""
   ],
   "metadata": {
    "collapsed": false,
    "ExecuteTime": {
     "end_time": "2024-03-13T21:01:19.488124Z",
     "start_time": "2024-03-13T21:01:19.482942Z"
    }
   },
   "id": "62538250a301d0c0",
   "execution_count": 29
  },
  {
   "cell_type": "code",
   "execution_count": 5,
   "id": "initial_id",
   "metadata": {
    "collapsed": true,
    "ExecuteTime": {
     "end_time": "2024-03-13T20:53:37.108988Z",
     "start_time": "2024-03-13T20:53:36.944741Z"
    }
   },
   "outputs": [],
   "source": [
    "norm_data = pd.read_csv('/Users/cgu3/Documents/Crispr/report/all_sample/all_sample.normalized.txt', sep='\\t', header=0, index_col=0)"
   ]
  },
  {
   "cell_type": "code",
   "outputs": [],
   "source": [
    "# remove sgRNAs start with negative_control\n",
    "norm_data = norm_data[~norm_data.index.str.startswith('negative_control')]"
   ],
   "metadata": {
    "collapsed": false,
    "ExecuteTime": {
     "end_time": "2024-03-13T20:53:59.482794Z",
     "start_time": "2024-03-13T20:53:59.447307Z"
    }
   },
   "id": "4891337da224fc43",
   "execution_count": 6
  },
  {
   "cell_type": "code",
   "outputs": [],
   "source": [
    "# aggregate sgRNAs with the same gene symbol and remove sgRNA column\n",
    "norm_data = norm_data.groupby(norm_data['Gene']).sum()"
   ],
   "metadata": {
    "collapsed": false,
    "ExecuteTime": {
     "end_time": "2024-03-13T20:56:09.447669Z",
     "start_time": "2024-03-13T20:56:09.426301Z"
    }
   },
   "id": "2b8dcd00c84f50ef",
   "execution_count": 15
  },
  {
   "cell_type": "code",
   "outputs": [
    {
     "data": {
      "text/plain": "               sample_wt_1  sample_wt_2  sample_wt_3  sample_wt_4  \\\nGene                                                                \n0610007P14Rik   503.071563  2088.066389     0.000000  2306.111784   \n0610009B22Rik  1063.921642   350.688073  2545.240495   190.249268   \n0610009D07Rik   789.971781   394.412540     0.000000   378.516772   \n0610009O20Rik   123.526483   398.874220  2217.057623   747.785316   \n0610010F05Rik   636.559859  1526.787005  3168.787952  1448.668904   \n...                    ...          ...          ...          ...   \nZyx            1605.844276   973.538645   543.324977  1272.952566   \nZzef1           448.281591  2353.090200  1148.640052   650.018332   \nZzz3           4101.278465  2121.975159  3558.960922  1534.545309   \na              1349.825679   480.969138   703.769936  1175.846169   \nl7Rn6           828.822852   361.396106     3.646476   799.311160   \n\n               sample_wt_5  sample_wt_6  sample_het_1  sample_het_2  \\\nGene                                                                  \n0610007P14Rik  4160.026848   760.176667   2138.682266   2381.226751   \n0610009B22Rik   262.048935     7.563947   1190.223174   1702.380563   \n0610009D07Rik   690.275244  2148.160929    654.888420   1684.128236   \n0610009O20Rik   460.183496   574.859967   3096.439976   1849.803210   \n0610010F05Rik  1330.217919  1319.908740   2608.926689   1201.143564   \n...                    ...          ...           ...           ...   \nZyx            1530.749269  3694.988077   1876.992572   1962.827239   \nZzef1           429.025239  2276.748027   2719.181738   1299.425329   \nZzz3           1863.104016     0.000000   1029.489910   1661.663832   \na               226.896029  2454.500780    486.184913   1044.594754   \nl7Rn6           293.207193  1331.254660    947.130718    638.831469   \n\n               sample_het_3  sample_het_4  sample_het_5  sample_het_6  \nGene                                                                   \n0610007P14Rik   1344.565253   1842.679233   1185.226353   1873.385530  \n0610009B22Rik   1025.826351    728.792808    601.767040    631.105054  \n0610009D07Rik   2137.748843   1228.034696    727.533168      0.000000  \n0610009O20Rik    377.357551    818.480735   1347.607935   1051.841757  \n0610010F05Rik    789.519924   1529.085082   2458.011402      0.000000  \n...                     ...           ...           ...           ...  \nZyx              512.913176    871.791741    652.710282      0.000000  \nZzef1            991.021529   1615.637067   1504.417600   2314.051866  \nZzz3            2161.562669   1971.880023   1509.989517    823.758176  \na               1209.009628   1349.082039   2545.570098   1096.129831  \nl7Rn6            991.937445    472.899980    187.057215    418.522299  \n\n[19923 rows x 12 columns]",
      "text/html": "<div>\n<style scoped>\n    .dataframe tbody tr th:only-of-type {\n        vertical-align: middle;\n    }\n\n    .dataframe tbody tr th {\n        vertical-align: top;\n    }\n\n    .dataframe thead th {\n        text-align: right;\n    }\n</style>\n<table border=\"1\" class=\"dataframe\">\n  <thead>\n    <tr style=\"text-align: right;\">\n      <th></th>\n      <th>sample_wt_1</th>\n      <th>sample_wt_2</th>\n      <th>sample_wt_3</th>\n      <th>sample_wt_4</th>\n      <th>sample_wt_5</th>\n      <th>sample_wt_6</th>\n      <th>sample_het_1</th>\n      <th>sample_het_2</th>\n      <th>sample_het_3</th>\n      <th>sample_het_4</th>\n      <th>sample_het_5</th>\n      <th>sample_het_6</th>\n    </tr>\n    <tr>\n      <th>Gene</th>\n      <th></th>\n      <th></th>\n      <th></th>\n      <th></th>\n      <th></th>\n      <th></th>\n      <th></th>\n      <th></th>\n      <th></th>\n      <th></th>\n      <th></th>\n      <th></th>\n    </tr>\n  </thead>\n  <tbody>\n    <tr>\n      <th>0610007P14Rik</th>\n      <td>503.071563</td>\n      <td>2088.066389</td>\n      <td>0.000000</td>\n      <td>2306.111784</td>\n      <td>4160.026848</td>\n      <td>760.176667</td>\n      <td>2138.682266</td>\n      <td>2381.226751</td>\n      <td>1344.565253</td>\n      <td>1842.679233</td>\n      <td>1185.226353</td>\n      <td>1873.385530</td>\n    </tr>\n    <tr>\n      <th>0610009B22Rik</th>\n      <td>1063.921642</td>\n      <td>350.688073</td>\n      <td>2545.240495</td>\n      <td>190.249268</td>\n      <td>262.048935</td>\n      <td>7.563947</td>\n      <td>1190.223174</td>\n      <td>1702.380563</td>\n      <td>1025.826351</td>\n      <td>728.792808</td>\n      <td>601.767040</td>\n      <td>631.105054</td>\n    </tr>\n    <tr>\n      <th>0610009D07Rik</th>\n      <td>789.971781</td>\n      <td>394.412540</td>\n      <td>0.000000</td>\n      <td>378.516772</td>\n      <td>690.275244</td>\n      <td>2148.160929</td>\n      <td>654.888420</td>\n      <td>1684.128236</td>\n      <td>2137.748843</td>\n      <td>1228.034696</td>\n      <td>727.533168</td>\n      <td>0.000000</td>\n    </tr>\n    <tr>\n      <th>0610009O20Rik</th>\n      <td>123.526483</td>\n      <td>398.874220</td>\n      <td>2217.057623</td>\n      <td>747.785316</td>\n      <td>460.183496</td>\n      <td>574.859967</td>\n      <td>3096.439976</td>\n      <td>1849.803210</td>\n      <td>377.357551</td>\n      <td>818.480735</td>\n      <td>1347.607935</td>\n      <td>1051.841757</td>\n    </tr>\n    <tr>\n      <th>0610010F05Rik</th>\n      <td>636.559859</td>\n      <td>1526.787005</td>\n      <td>3168.787952</td>\n      <td>1448.668904</td>\n      <td>1330.217919</td>\n      <td>1319.908740</td>\n      <td>2608.926689</td>\n      <td>1201.143564</td>\n      <td>789.519924</td>\n      <td>1529.085082</td>\n      <td>2458.011402</td>\n      <td>0.000000</td>\n    </tr>\n    <tr>\n      <th>...</th>\n      <td>...</td>\n      <td>...</td>\n      <td>...</td>\n      <td>...</td>\n      <td>...</td>\n      <td>...</td>\n      <td>...</td>\n      <td>...</td>\n      <td>...</td>\n      <td>...</td>\n      <td>...</td>\n      <td>...</td>\n    </tr>\n    <tr>\n      <th>Zyx</th>\n      <td>1605.844276</td>\n      <td>973.538645</td>\n      <td>543.324977</td>\n      <td>1272.952566</td>\n      <td>1530.749269</td>\n      <td>3694.988077</td>\n      <td>1876.992572</td>\n      <td>1962.827239</td>\n      <td>512.913176</td>\n      <td>871.791741</td>\n      <td>652.710282</td>\n      <td>0.000000</td>\n    </tr>\n    <tr>\n      <th>Zzef1</th>\n      <td>448.281591</td>\n      <td>2353.090200</td>\n      <td>1148.640052</td>\n      <td>650.018332</td>\n      <td>429.025239</td>\n      <td>2276.748027</td>\n      <td>2719.181738</td>\n      <td>1299.425329</td>\n      <td>991.021529</td>\n      <td>1615.637067</td>\n      <td>1504.417600</td>\n      <td>2314.051866</td>\n    </tr>\n    <tr>\n      <th>Zzz3</th>\n      <td>4101.278465</td>\n      <td>2121.975159</td>\n      <td>3558.960922</td>\n      <td>1534.545309</td>\n      <td>1863.104016</td>\n      <td>0.000000</td>\n      <td>1029.489910</td>\n      <td>1661.663832</td>\n      <td>2161.562669</td>\n      <td>1971.880023</td>\n      <td>1509.989517</td>\n      <td>823.758176</td>\n    </tr>\n    <tr>\n      <th>a</th>\n      <td>1349.825679</td>\n      <td>480.969138</td>\n      <td>703.769936</td>\n      <td>1175.846169</td>\n      <td>226.896029</td>\n      <td>2454.500780</td>\n      <td>486.184913</td>\n      <td>1044.594754</td>\n      <td>1209.009628</td>\n      <td>1349.082039</td>\n      <td>2545.570098</td>\n      <td>1096.129831</td>\n    </tr>\n    <tr>\n      <th>l7Rn6</th>\n      <td>828.822852</td>\n      <td>361.396106</td>\n      <td>3.646476</td>\n      <td>799.311160</td>\n      <td>293.207193</td>\n      <td>1331.254660</td>\n      <td>947.130718</td>\n      <td>638.831469</td>\n      <td>991.937445</td>\n      <td>472.899980</td>\n      <td>187.057215</td>\n      <td>418.522299</td>\n    </tr>\n  </tbody>\n</table>\n<p>19923 rows × 12 columns</p>\n</div>"
     },
     "execution_count": 16,
     "metadata": {},
     "output_type": "execute_result"
    }
   ],
   "source": [
    "norm_data"
   ],
   "metadata": {
    "collapsed": false,
    "ExecuteTime": {
     "end_time": "2024-03-13T20:56:10.082434Z",
     "start_time": "2024-03-13T20:56:10.075039Z"
    }
   },
   "id": "76e4d9b9322f6545",
   "execution_count": 16
  },
  {
   "cell_type": "code",
   "outputs": [],
   "source": [
    "# find genes has non-zero in sample_het_1 and zero value in sample_wt_1\n",
    "het_specific_group_1 = norm_data[(norm_data['sample_het_1'] > 0) & (norm_data['sample_wt_1'] == 0)].loc[:, ['sample_het_1', 'sample_wt_1']]\n",
    "# find genes has non-zero in sample_wt_1 and zero value in sample_het_1\n",
    "wt_specific_group_1 = norm_data[(norm_data['sample_wt_1'] > 0) & (norm_data['sample_het_1'] == 0)].loc[:, ['sample_het_1', 'sample_wt_1']]\n",
    "# find genes has non-zero in sample_het_6 and zero value in sample_wt_6\n",
    "het_specific_group_6 = norm_data[(norm_data['sample_het_6'] > 0) & (norm_data['sample_wt_6'] == 0)].loc[:, ['sample_het_6', 'sample_wt_6']]\n",
    "# find genes has non-zero in sample_wt_6 and zero value in sample_het_6\n",
    "wt_specific_group_6 = norm_data[(norm_data['sample_wt_6'] > 0) & (norm_data['sample_het_6'] == 0)].loc[:, ['sample_het_6', 'sample_wt_6']] "
   ],
   "metadata": {
    "collapsed": false,
    "ExecuteTime": {
     "end_time": "2024-03-13T20:59:41.340813Z",
     "start_time": "2024-03-13T20:59:41.330014Z"
    }
   },
   "id": "bc8ae64099f8b951",
   "execution_count": 21
  },
  {
   "cell_type": "code",
   "outputs": [
    {
     "data": {
      "text/plain": "625"
     },
     "execution_count": 30,
     "metadata": {},
     "output_type": "execute_result"
    },
    {
     "data": {
      "text/plain": "280"
     },
     "execution_count": 30,
     "metadata": {},
     "output_type": "execute_result"
    },
    {
     "data": {
      "text/plain": "3727"
     },
     "execution_count": 30,
     "metadata": {},
     "output_type": "execute_result"
    },
    {
     "data": {
      "text/plain": "2793"
     },
     "execution_count": 30,
     "metadata": {},
     "output_type": "execute_result"
    }
   ],
   "source": [
    "len(het_specific_group_1)\n",
    "len(wt_specific_group_1)\n",
    "len(het_specific_group_6)\n",
    "len(wt_specific_group_6)"
   ],
   "metadata": {
    "collapsed": false,
    "ExecuteTime": {
     "end_time": "2024-03-13T21:01:21.432801Z",
     "start_time": "2024-03-13T21:01:21.427163Z"
    }
   },
   "id": "d8239d42c77d51a2",
   "execution_count": 30
  },
  {
   "cell_type": "code",
   "outputs": [],
   "source": [
    "# output the result to a file\n",
    "het_specific_group_1.to_csv('/Users/cgu3/Documents/Crispr/report/sample_1/het_specific_group_1.txt', sep='\\t')\n",
    "wt_specific_group_1.to_csv('/Users/cgu3/Documents/Crispr/report/sample_1/wt_specific_group_1.txt', sep='\\t')\n",
    "het_specific_group_6.to_csv('/Users/cgu3/Documents/Crispr/report/sample_6/het_specific_group_6.txt', sep='\\t')\n",
    "wt_specific_group_6.to_csv('/Users/cgu3/Documents/Crispr/report/sample_6/wt_specific_group_6.txt', sep='\\t')"
   ],
   "metadata": {
    "collapsed": false,
    "ExecuteTime": {
     "end_time": "2024-03-13T21:02:18.635006Z",
     "start_time": "2024-03-13T21:02:18.609545Z"
    }
   },
   "id": "bb98fcd79fd07c9d",
   "execution_count": 31
  },
  {
   "cell_type": "code",
   "outputs": [],
   "source": [],
   "metadata": {
    "collapsed": false
   },
   "id": "635b47dffa3671f3"
  }
 ],
 "metadata": {
  "kernelspec": {
   "display_name": "Python 3",
   "language": "python",
   "name": "python3"
  },
  "language_info": {
   "codemirror_mode": {
    "name": "ipython",
    "version": 2
   },
   "file_extension": ".py",
   "mimetype": "text/x-python",
   "name": "python",
   "nbconvert_exporter": "python",
   "pygments_lexer": "ipython2",
   "version": "2.7.6"
  }
 },
 "nbformat": 4,
 "nbformat_minor": 5
}
